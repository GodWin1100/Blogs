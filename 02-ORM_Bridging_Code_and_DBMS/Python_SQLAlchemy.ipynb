{
 "cells": [
  {
   "cell_type": "markdown",
   "metadata": {},
   "source": [
    "# SQLAlchemy: Python Data Mapper ORM\n"
   ]
  },
  {
   "cell_type": "code",
   "execution_count": 97,
   "metadata": {},
   "outputs": [],
   "source": [
    "import getpass\n",
    "from urllib.parse import quote\n",
    "from typing import Optional"
   ]
  },
  {
   "cell_type": "code",
   "execution_count": 98,
   "metadata": {},
   "outputs": [],
   "source": [
    "db_user = getpass.getpass(\"Enter DB User\")\n",
    "db_password = quote(getpass.getpass(\"Enter DB Password\"))\n",
    "db_host = getpass.getpass(\"Enter DB Host\")\n",
    "db_name = \"cms_python\""
   ]
  },
  {
   "cell_type": "code",
   "execution_count": 99,
   "metadata": {},
   "outputs": [
    {
     "name": "stdout",
     "output_type": "stream",
     "text": [
      "Requirement already satisfied: SQLAlchemy in d:\\programming\\blogs\\venv\\lib\\site-packages (2.0.22)\n",
      "Requirement already satisfied: PyMySQL in d:\\programming\\blogs\\venv\\lib\\site-packages (1.1.0)\n",
      "Requirement already satisfied: typing-extensions>=4.2.0 in d:\\programming\\blogs\\venv\\lib\\site-packages (from SQLAlchemy) (4.8.0)\n",
      "Requirement already satisfied: greenlet!=0.4.17 in d:\\programming\\blogs\\venv\\lib\\site-packages (from SQLAlchemy) (3.0.1)\n",
      "Note: you may need to restart the kernel to use updated packages.\n"
     ]
    }
   ],
   "source": [
    "%pip install SQLAlchemy PyMySQL\n"
   ]
  },
  {
   "cell_type": "markdown",
   "metadata": {},
   "source": [
    "## SQL Alchemy Imports\n"
   ]
  },
  {
   "cell_type": "code",
   "execution_count": 100,
   "metadata": {},
   "outputs": [],
   "source": [
    "from sqlalchemy import (\n",
    "    Column,\n",
    "    Date,\n",
    "    ForeignKey,\n",
    "    Integer,\n",
    "    MetaData,\n",
    "    String,\n",
    "    Table,\n",
    "    create_engine,\n",
    "    insert,\n",
    "    select,\n",
    ")\n",
    "from sqlalchemy.orm import (\n",
    "    DeclarativeBase,\n",
    "    Mapped,\n",
    "    Session,\n",
    "    aliased,\n",
    "    mapped_column,\n",
    "    relationship,\n",
    "    sessionmaker,\n",
    ")"
   ]
  },
  {
   "cell_type": "markdown",
   "metadata": {},
   "source": [
    "## Initialize Engine with dialect and DB engine\n",
    "\n",
    "- Ref:\n",
    "  - ORM Quick Start: https://docs.sqlalchemy.org/en/20/orm/quickstart.html\n",
    "  - Engine Guide: https://docs.sqlalchemy.org/en/20/core/engines.html\n"
   ]
  },
  {
   "cell_type": "markdown",
   "metadata": {},
   "source": [
    "### **Do not Forget Exception Handling in Production**"
   ]
  },
  {
   "cell_type": "code",
   "execution_count": 101,
   "metadata": {},
   "outputs": [],
   "source": [
    "db = f\"mysql+pymysql://{db_user}:{db_password}@{db_host}/{db_name}\"\n",
    "engine = create_engine(\n",
    "    db, echo=True\n",
    ")  # echo=True will log background SQL operations"
   ]
  },
  {
   "cell_type": "markdown",
   "metadata": {},
   "source": [
    "## list all tables and it's column\n"
   ]
  },
  {
   "cell_type": "code",
   "execution_count": 102,
   "metadata": {},
   "outputs": [
    {
     "name": "stdout",
     "output_type": "stream",
     "text": [
      "2023-10-29 15:22:51,075 INFO sqlalchemy.engine.Engine SELECT DATABASE()\n",
      "2023-10-29 15:22:51,075 INFO sqlalchemy.engine.Engine [raw sql] {}\n",
      "2023-10-29 15:22:51,075 INFO sqlalchemy.engine.Engine SELECT @@sql_mode\n",
      "2023-10-29 15:22:51,080 INFO sqlalchemy.engine.Engine [raw sql] {}\n",
      "2023-10-29 15:22:51,080 INFO sqlalchemy.engine.Engine SELECT @@lower_case_table_names\n",
      "2023-10-29 15:22:51,080 INFO sqlalchemy.engine.Engine [raw sql] {}\n",
      "2023-10-29 15:22:51,080 INFO sqlalchemy.engine.Engine BEGIN (implicit)\n",
      "2023-10-29 15:22:51,080 INFO sqlalchemy.engine.Engine SHOW FULL TABLES FROM `cms_python`\n",
      "2023-10-29 15:22:51,080 INFO sqlalchemy.engine.Engine [raw sql] {}\n",
      "2023-10-29 15:22:51,091 INFO sqlalchemy.engine.Engine SHOW CREATE TABLE `comment`\n",
      "2023-10-29 15:22:51,092 INFO sqlalchemy.engine.Engine [raw sql] {}\n",
      "2023-10-29 15:22:51,094 INFO sqlalchemy.engine.Engine SHOW CREATE TABLE `content`\n",
      "2023-10-29 15:22:51,095 INFO sqlalchemy.engine.Engine [raw sql] {}\n",
      "2023-10-29 15:22:51,097 INFO sqlalchemy.engine.Engine SHOW CREATE TABLE `permission`\n",
      "2023-10-29 15:22:51,098 INFO sqlalchemy.engine.Engine [raw sql] {}\n",
      "2023-10-29 15:22:51,100 INFO sqlalchemy.engine.Engine SHOW CREATE TABLE `role`\n",
      "2023-10-29 15:22:51,100 INFO sqlalchemy.engine.Engine [raw sql] {}\n",
      "2023-10-29 15:22:51,102 INFO sqlalchemy.engine.Engine SHOW CREATE TABLE `role_permission`\n",
      "2023-10-29 15:22:51,103 INFO sqlalchemy.engine.Engine [raw sql] {}\n",
      "2023-10-29 15:22:51,105 INFO sqlalchemy.engine.Engine SHOW CREATE TABLE `secret`\n",
      "2023-10-29 15:22:51,106 INFO sqlalchemy.engine.Engine [raw sql] {}\n",
      "2023-10-29 15:22:51,110 INFO sqlalchemy.engine.Engine SHOW CREATE TABLE `user`\n",
      "2023-10-29 15:22:51,110 INFO sqlalchemy.engine.Engine [raw sql] {}\n",
      "2023-10-29 15:22:51,112 INFO sqlalchemy.engine.Engine SHOW CREATE TABLE `user_role`\n",
      "2023-10-29 15:22:51,113 INFO sqlalchemy.engine.Engine [raw sql] {}\n",
      "2023-10-29 15:22:51,116 INFO sqlalchemy.engine.Engine \n",
      "                    select table_schema, table_name, column_name\n",
      "                    from information_schema.columns\n",
      "                    where (table_schema, table_name, lower(column_name)) in\n",
      "                    ((%(table_data_1_1)s, %(table_data_1_2)s, %(table_data_1_3)s), (%(table_data_2_1)s, %(table_data_2_2)s, %(table_data_2_3)s));\n",
      "                \n",
      "2023-10-29 15:22:51,117 INFO sqlalchemy.engine.Engine [generated in 0.00080s] {'table_data_1_1': 'cms_python', 'table_data_1_2': 'content', 'table_data_1_3': 'content_id', 'table_data_2_1': 'cms_python', 'table_data_2_2': 'user', 'table_data_2_3': 'user_id'}\n",
      "2023-10-29 15:22:51,138 INFO sqlalchemy.engine.Engine \n",
      "                    select table_schema, table_name, column_name\n",
      "                    from information_schema.columns\n",
      "                    where (table_schema, table_name, lower(column_name)) in\n",
      "                    ((%(table_data_1_1)s, %(table_data_1_2)s, %(table_data_1_3)s), (%(table_data_2_1)s, %(table_data_2_2)s, %(table_data_2_3)s));\n",
      "                \n",
      "2023-10-29 15:22:51,140 INFO sqlalchemy.engine.Engine [cached since 0.02402s ago] {'table_data_1_1': 'cms_python', 'table_data_1_2': 'user', 'table_data_1_3': 'user_id', 'table_data_2_1': 'cms_python', 'table_data_2_2': 'user', 'table_data_2_3': 'user_id'}\n",
      "2023-10-29 15:22:51,158 INFO sqlalchemy.engine.Engine \n",
      "                    select table_schema, table_name, column_name\n",
      "                    from information_schema.columns\n",
      "                    where (table_schema, table_name, lower(column_name)) in\n",
      "                    ((%(table_data_1_1)s, %(table_data_1_2)s, %(table_data_1_3)s), (%(table_data_2_1)s, %(table_data_2_2)s, %(table_data_2_3)s));\n",
      "                \n",
      "2023-10-29 15:22:51,159 INFO sqlalchemy.engine.Engine [cached since 0.04287s ago] {'table_data_1_1': 'cms_python', 'table_data_1_2': 'role', 'table_data_1_3': 'role_id', 'table_data_2_1': 'cms_python', 'table_data_2_2': 'permission', 'table_data_2_3': 'permission_id'}\n"
     ]
    },
    {
     "name": "stdout",
     "output_type": "stream",
     "text": [
      "2023-10-29 15:22:51,181 INFO sqlalchemy.engine.Engine \n",
      "                    select table_schema, table_name, column_name\n",
      "                    from information_schema.columns\n",
      "                    where (table_schema, table_name, lower(column_name)) in\n",
      "                    ((%(table_data_1_1)s, %(table_data_1_2)s, %(table_data_1_3)s));\n",
      "                \n",
      "2023-10-29 15:22:51,181 INFO sqlalchemy.engine.Engine [cached since 0.06594s ago] {'table_data_1_1': 'cms_python', 'table_data_1_2': 'user', 'table_data_1_3': 'user_id'}\n",
      "2023-10-29 15:22:51,181 INFO sqlalchemy.engine.Engine \n",
      "                    select table_schema, table_name, column_name\n",
      "                    from information_schema.columns\n",
      "                    where (table_schema, table_name, lower(column_name)) in\n",
      "                    ((%(table_data_1_1)s, %(table_data_1_2)s, %(table_data_1_3)s), (%(table_data_2_1)s, %(table_data_2_2)s, %(table_data_2_3)s));\n",
      "                \n",
      "2023-10-29 15:22:51,181 INFO sqlalchemy.engine.Engine [cached since 0.06916s ago] {'table_data_1_1': 'cms_python', 'table_data_1_2': 'user', 'table_data_1_3': 'user_id', 'table_data_2_1': 'cms_python', 'table_data_2_2': 'role', 'table_data_2_3': 'role_id'}\n",
      "2023-10-29 15:22:51,209 INFO sqlalchemy.engine.Engine ROLLBACK\n",
      "===============table.name='comment'===============\n",
      "column.name='comment_id'\n",
      "column.name='content_id'\n",
      "column.name='user_id'\n",
      "column.name='comment'\n",
      "column.name='date'\n",
      "\n",
      "===============table.name='content'===============\n",
      "column.name='content_id'\n",
      "column.name='user_id'\n",
      "column.name='contributor_id'\n",
      "column.name='title'\n",
      "column.name='content'\n",
      "\n",
      "================table.name='user'=================\n",
      "column.name='user_id'\n",
      "column.name='user_name'\n",
      "column.name='email'\n",
      "\n",
      "=============table.name='permission'==============\n",
      "column.name='permission_id'\n",
      "column.name='permission_name'\n",
      "column.name='description'\n",
      "\n",
      "================table.name='role'=================\n",
      "column.name='role_id'\n",
      "column.name='role_name'\n",
      "column.name='description'\n",
      "\n",
      "===========table.name='role_permission'===========\n",
      "column.name='role_id'\n",
      "column.name='permission_id'\n",
      "\n",
      "===============table.name='secret'================\n",
      "column.name='secret_id'\n",
      "column.name='user_id'\n",
      "column.name='password'\n",
      "column.name='expiry_date'\n",
      "\n",
      "==============table.name='user_role'==============\n",
      "column.name='user_id'\n",
      "column.name='role_id'\n",
      "\n"
     ]
    }
   ],
   "source": [
    "m = MetaData()\n",
    "m.reflect(engine)\n",
    "for table in m.tables.values():\n",
    "    print(f\"{table.name=}\".center(50, \"=\"))\n",
    "    for column in table.c:\n",
    "        print(f\"{column.name=}\")\n",
    "    print()"
   ]
  },
  {
   "cell_type": "markdown",
   "metadata": {},
   "source": [
    "## Session\n",
    "\n",
    "- Ref:\n",
    "  - Basic of Session: https://docs.sqlalchemy.org/en/20/orm/session_basics.html\n",
    "  - Session API: https://docs.sqlalchemy.org/en/20/orm/session_api.html\n"
   ]
  },
  {
   "cell_type": "code",
   "execution_count": 103,
   "metadata": {},
   "outputs": [],
   "source": [
    "session = Session(engine)  # for modular approach\n",
    "\n",
    "# prefer contextual approach for functional programming\n",
    "# with Session(engine) as session:\n",
    "#     ..."
   ]
  },
  {
   "cell_type": "code",
   "execution_count": 104,
   "metadata": {},
   "outputs": [],
   "source": [
    "# if there's only one Engine in module we can bind it\n",
    "# Session = sessionmaker(bind=engine)\n",
    "\n",
    "# session = Session()  # for modular approach\n",
    "\n",
    "# prefer contextual approach for functional programming\n",
    "# with Session() as session:\n",
    "#     ..."
   ]
  },
  {
   "cell_type": "markdown",
   "metadata": {},
   "source": [
    "## Declarative Class Base Approached\n",
    "\n",
    "- Ref:\n",
    "  - User guide: https://docs.sqlalchemy.org/en/20/orm/extensions/declarative/basic_use.html\n",
    "  - API: https://docs.sqlalchemy.org/en/20/orm/mapping_api.html#sqlalchemy.orm.DeclarativeBase\n"
   ]
  },
  {
   "cell_type": "code",
   "execution_count": 105,
   "metadata": {},
   "outputs": [],
   "source": [
    "class Base(DeclarativeBase):\n",
    "    pass"
   ]
  },
  {
   "cell_type": "markdown",
   "metadata": {},
   "source": [
    "- Ref:\n",
    "  - Many to Many Guide: https://docs.sqlalchemy.org/en/20/orm/basic_relationships.html#many-to-many\n"
   ]
  },
  {
   "cell_type": "code",
   "execution_count": 106,
   "metadata": {},
   "outputs": [],
   "source": [
    "role_permission = Table(\n",
    "    \"role_permission\",\n",
    "    Base.metadata,\n",
    "    Column(\"role_id\", Integer, ForeignKey(\"role.role_id\"), primary_key=True),\n",
    "    Column(\n",
    "        \"permission_id\",\n",
    "        Integer,\n",
    "        ForeignKey(\"permission.permission_id\"),\n",
    "        primary_key=True,\n",
    "    ),\n",
    ")\n",
    "\n",
    "\n",
    "user_role = Table(\n",
    "    \"user_role\",\n",
    "    Base.metadata,\n",
    "    Column(\n",
    "        \"user_id\",\n",
    "        Integer,\n",
    "        ForeignKey(\n",
    "            \"user.user_id\",\n",
    "        ),\n",
    "        primary_key=True,\n",
    "    ),\n",
    "    Column(\n",
    "        \"role_id\",\n",
    "        Integer,\n",
    "        ForeignKey(\"role.role_id\", ondelete=\"CASCADE\"),\n",
    "        primary_key=True,\n",
    "    ),\n",
    ")"
   ]
  },
  {
   "cell_type": "code",
   "execution_count": 107,
   "metadata": {},
   "outputs": [],
   "source": [
    "class Role(Base):\n",
    "    __tablename__ = \"role\"\n",
    "    role_id: Mapped[int] = mapped_column(primary_key=True)\n",
    "    role_name: Mapped[str] = mapped_column(String(150), unique=True)\n",
    "    description: Mapped[str] = mapped_column(String(255))\n",
    "    permissions: Mapped[list[\"Permission\"]] = relationship(\n",
    "        secondary=role_permission, back_populates=\"roles\"\n",
    "    )\n",
    "    users: Mapped[list[\"User\"]] = relationship(\n",
    "        secondary=user_role, back_populates=\"roles\"\n",
    "    )\n",
    "\n",
    "    def __repr__(self) -> str:\n",
    "        return f\"Role(id={self.role_id!r}, name={self.role_name!r})\""
   ]
  },
  {
   "cell_type": "code",
   "execution_count": 108,
   "metadata": {},
   "outputs": [],
   "source": [
    "class Permission(Base):\n",
    "    __tablename__ = \"permission\"\n",
    "    permission_id: Mapped[int] = mapped_column(primary_key=True)\n",
    "    permission_name: Mapped[str] = mapped_column(String(45), unique=True)\n",
    "    description: Mapped[str] = mapped_column(String(255))\n",
    "    roles: Mapped[list[Role]] = relationship(\n",
    "        secondary=role_permission, back_populates=\"permissions\"\n",
    "    )\n",
    "\n",
    "    def __repr__(self) -> str:\n",
    "        return f\"Permission(id={self.permission_id!r}, user={self.permission_name!r})\""
   ]
  },
  {
   "cell_type": "code",
   "execution_count": 109,
   "metadata": {},
   "outputs": [],
   "source": [
    "class User(Base):\n",
    "    __tablename__ = \"user\"\n",
    "    # __table_args__ = {\"extend_existing\": True} # let you modify python object\n",
    "    user_id: Mapped[int] = mapped_column(primary_key=True)\n",
    "    user_name: Mapped[str] = mapped_column(String(45))\n",
    "    email: Mapped[str] = mapped_column(String(255), unique=True)\n",
    "    secret: Mapped[\"Secret\"] = relationship(\n",
    "        back_populates=\"user\", cascade=\"all, delete\", passive_deletes=True\n",
    "    )\n",
    "    roles: Mapped[list[Role]] = relationship(\n",
    "        back_populates=\"users\", secondary=user_role\n",
    "    )\n",
    "    contents: Mapped[list[\"Content\"]] = relationship(\n",
    "        back_populates=\"author\", foreign_keys=\"Content.user_id\"\n",
    "    )\n",
    "\n",
    "    def __repr__(self) -> str:\n",
    "        return f\"User(id={self.user_id!r}, name={self.user_name!r}, email={self.email!r})\""
   ]
  },
  {
   "cell_type": "code",
   "execution_count": 110,
   "metadata": {},
   "outputs": [],
   "source": [
    "class Secret(Base):\n",
    "    __tablename__ = \"secret\"\n",
    "    secret_id: Mapped[int] = mapped_column(primary_key=True)\n",
    "    user_id: Mapped[int] = mapped_column(\n",
    "        ForeignKey(\"user.user_id\", ondelete=\"CASCADE\"), unique=True\n",
    "    )\n",
    "    password: Mapped[str] = mapped_column(String(45))\n",
    "    expiry_date: Mapped[Date] = mapped_column(Date)\n",
    "\n",
    "    user: Mapped[User] = relationship(back_populates=\"secret\")\n",
    "\n",
    "    def __repr__(self) -> str:\n",
    "        return f\"Secret(id={self.secret_id!r}, user={self.user_id!r})\""
   ]
  },
  {
   "cell_type": "markdown",
   "metadata": {},
   "source": [
    "## Uncommon Join Condition\n",
    "\n",
    "- Ref:\n",
    "  - Join Conditions: https://docs.sqlalchemy.org/en/20/orm/join_conditions.html#handling-multiple-join-paths\n"
   ]
  },
  {
   "cell_type": "code",
   "execution_count": 111,
   "metadata": {},
   "outputs": [],
   "source": [
    "class Content(Base):\n",
    "    __tablename__ = \"content\"\n",
    "    content_id: Mapped[int] = mapped_column(primary_key=True)\n",
    "    user_id: Mapped[int] = mapped_column(ForeignKey(\"user.user_id\"))\n",
    "    contributor_id: Mapped[Optional[int]] = mapped_column(\n",
    "        ForeignKey(\"user.user_id\")\n",
    "    )\n",
    "    title: Mapped[str] = mapped_column(String(45))\n",
    "    content: Mapped[str] = mapped_column(String(255))\n",
    "\n",
    "    author: Mapped[User] = relationship(\n",
    "        back_populates=\"contents\", foreign_keys=user_id\n",
    "    )\n",
    "    comments: Mapped[list[\"Comment\"]] = relationship(\"Comment\")\n",
    "\n",
    "    def __repr__(self) -> str:\n",
    "        return f\"Content(id={self.content_id!r}, title={self.title!r}, author={self.user_id!r})\""
   ]
  },
  {
   "cell_type": "code",
   "execution_count": 112,
   "metadata": {},
   "outputs": [],
   "source": [
    "class Comment(Base):\n",
    "    __tablename__ = \"comment\"\n",
    "    comment_id: Mapped[int] = mapped_column(primary_key=True)\n",
    "    content_id: Mapped[int] = mapped_column(ForeignKey(\"content.content_id\"))\n",
    "    user_id: Mapped[int] = mapped_column(ForeignKey(\"user.user_id\"))\n",
    "    comment: Mapped[str] = mapped_column(String(255))\n",
    "    date: Mapped[Date] = mapped_column(Date)\n",
    "\n",
    "    def __repr__(self) -> str:\n",
    "        return f\"Comment(id={self.comment_id!r}, content_id={self.content_id!r}, commenter={self.user_id!r}, date={self.date!r})\""
   ]
  },
  {
   "cell_type": "code",
   "execution_count": 113,
   "metadata": {},
   "outputs": [
    {
     "name": "stdout",
     "output_type": "stream",
     "text": [
      "2023-10-29 15:22:51,457 INFO sqlalchemy.engine.Engine BEGIN (implicit)\n",
      "2023-10-29 15:22:51,459 INFO sqlalchemy.engine.Engine DESCRIBE `cms_python`.`role_permission`\n",
      "2023-10-29 15:22:51,459 INFO sqlalchemy.engine.Engine [raw sql] {}\n",
      "2023-10-29 15:22:51,459 INFO sqlalchemy.engine.Engine DESCRIBE `cms_python`.`user_role`\n",
      "2023-10-29 15:22:51,459 INFO sqlalchemy.engine.Engine [raw sql] {}\n",
      "2023-10-29 15:22:51,459 INFO sqlalchemy.engine.Engine DESCRIBE `cms_python`.`role`\n",
      "2023-10-29 15:22:51,471 INFO sqlalchemy.engine.Engine [raw sql] {}\n",
      "2023-10-29 15:22:51,477 INFO sqlalchemy.engine.Engine DESCRIBE `cms_python`.`permission`\n",
      "2023-10-29 15:22:51,481 INFO sqlalchemy.engine.Engine [raw sql] {}\n",
      "2023-10-29 15:22:51,481 INFO sqlalchemy.engine.Engine DESCRIBE `cms_python`.`user`\n",
      "2023-10-29 15:22:51,481 INFO sqlalchemy.engine.Engine [raw sql] {}\n",
      "2023-10-29 15:22:51,488 INFO sqlalchemy.engine.Engine DESCRIBE `cms_python`.`secret`\n",
      "2023-10-29 15:22:51,491 INFO sqlalchemy.engine.Engine [raw sql] {}\n",
      "2023-10-29 15:22:51,491 INFO sqlalchemy.engine.Engine DESCRIBE `cms_python`.`content`\n",
      "2023-10-29 15:22:51,491 INFO sqlalchemy.engine.Engine [raw sql] {}\n",
      "2023-10-29 15:22:51,491 INFO sqlalchemy.engine.Engine DESCRIBE `cms_python`.`comment`\n",
      "2023-10-29 15:22:51,491 INFO sqlalchemy.engine.Engine [raw sql] {}\n",
      "2023-10-29 15:22:51,508 INFO sqlalchemy.engine.Engine \n",
      "DROP TABLE comment\n",
      "2023-10-29 15:22:51,510 INFO sqlalchemy.engine.Engine [no key 0.00194s] {}\n",
      "2023-10-29 15:22:51,540 INFO sqlalchemy.engine.Engine \n",
      "DROP TABLE content\n",
      "2023-10-29 15:22:51,540 INFO sqlalchemy.engine.Engine [no key 0.00303s] {}\n",
      "2023-10-29 15:22:51,557 INFO sqlalchemy.engine.Engine \n",
      "DROP TABLE secret\n",
      "2023-10-29 15:22:51,557 INFO sqlalchemy.engine.Engine [no key 0.00093s] {}\n",
      "2023-10-29 15:22:51,573 INFO sqlalchemy.engine.Engine \n",
      "DROP TABLE user_role\n",
      "2023-10-29 15:22:51,573 INFO sqlalchemy.engine.Engine [no key 0.00067s] {}\n",
      "2023-10-29 15:22:51,591 INFO sqlalchemy.engine.Engine \n",
      "DROP TABLE role_permission\n",
      "2023-10-29 15:22:51,591 INFO sqlalchemy.engine.Engine [no key 0.00082s] {}\n",
      "2023-10-29 15:22:51,606 INFO sqlalchemy.engine.Engine \n",
      "DROP TABLE user\n",
      "2023-10-29 15:22:51,606 INFO sqlalchemy.engine.Engine [no key 0.00083s] {}\n",
      "2023-10-29 15:22:51,628 INFO sqlalchemy.engine.Engine \n",
      "DROP TABLE permission\n",
      "2023-10-29 15:22:51,629 INFO sqlalchemy.engine.Engine [no key 0.00100s] {}\n",
      "2023-10-29 15:22:51,644 INFO sqlalchemy.engine.Engine \n",
      "DROP TABLE `role`\n",
      "2023-10-29 15:22:51,645 INFO sqlalchemy.engine.Engine [no key 0.00150s] {}\n",
      "2023-10-29 15:22:51,662 INFO sqlalchemy.engine.Engine COMMIT\n"
     ]
    }
   ],
   "source": [
    "# DO NOT DROP TABLES IN PRODUCTION\n",
    "Base.metadata.drop_all(engine)"
   ]
  },
  {
   "cell_type": "code",
   "execution_count": 114,
   "metadata": {},
   "outputs": [
    {
     "name": "stdout",
     "output_type": "stream",
     "text": [
      "2023-10-29 15:22:51,670 INFO sqlalchemy.engine.Engine BEGIN (implicit)\n",
      "2023-10-29 15:22:51,674 INFO sqlalchemy.engine.Engine DESCRIBE `cms_python`.`role_permission`\n",
      "2023-10-29 15:22:51,677 INFO sqlalchemy.engine.Engine [raw sql] {}\n",
      "2023-10-29 15:22:51,682 INFO sqlalchemy.engine.Engine DESCRIBE `cms_python`.`user_role`\n",
      "2023-10-29 15:22:51,682 INFO sqlalchemy.engine.Engine [raw sql] {}\n",
      "2023-10-29 15:22:51,682 INFO sqlalchemy.engine.Engine DESCRIBE `cms_python`.`role`\n",
      "2023-10-29 15:22:51,682 INFO sqlalchemy.engine.Engine [raw sql] {}\n",
      "2023-10-29 15:22:51,690 INFO sqlalchemy.engine.Engine DESCRIBE `cms_python`.`permission`\n",
      "2023-10-29 15:22:51,690 INFO sqlalchemy.engine.Engine [raw sql] {}\n",
      "2023-10-29 15:22:51,690 INFO sqlalchemy.engine.Engine DESCRIBE `cms_python`.`user`\n",
      "2023-10-29 15:22:51,690 INFO sqlalchemy.engine.Engine [raw sql] {}\n",
      "2023-10-29 15:22:51,690 INFO sqlalchemy.engine.Engine DESCRIBE `cms_python`.`secret`\n",
      "2023-10-29 15:22:51,690 INFO sqlalchemy.engine.Engine [raw sql] {}\n",
      "2023-10-29 15:22:51,690 INFO sqlalchemy.engine.Engine DESCRIBE `cms_python`.`content`\n",
      "2023-10-29 15:22:51,690 INFO sqlalchemy.engine.Engine [raw sql] {}\n",
      "2023-10-29 15:22:51,707 INFO sqlalchemy.engine.Engine DESCRIBE `cms_python`.`comment`\n",
      "2023-10-29 15:22:51,710 INFO sqlalchemy.engine.Engine [raw sql] {}\n",
      "2023-10-29 15:22:51,715 INFO sqlalchemy.engine.Engine \n",
      "CREATE TABLE `role` (\n",
      "\trole_id INTEGER NOT NULL AUTO_INCREMENT, \n",
      "\trole_name VARCHAR(150) NOT NULL, \n",
      "\tdescription VARCHAR(255) NOT NULL, \n",
      "\tPRIMARY KEY (role_id), \n",
      "\tUNIQUE (role_name)\n",
      ")\n",
      "\n",
      "\n",
      "2023-10-29 15:22:51,717 INFO sqlalchemy.engine.Engine [no key 0.00128s] {}\n",
      "2023-10-29 15:22:51,739 INFO sqlalchemy.engine.Engine \n",
      "CREATE TABLE permission (\n",
      "\tpermission_id INTEGER NOT NULL AUTO_INCREMENT, \n",
      "\tpermission_name VARCHAR(45) NOT NULL, \n",
      "\tdescription VARCHAR(255) NOT NULL, \n",
      "\tPRIMARY KEY (permission_id), \n",
      "\tUNIQUE (permission_name)\n",
      ")\n",
      "\n",
      "\n",
      "2023-10-29 15:22:51,739 INFO sqlalchemy.engine.Engine [no key 0.00096s] {}\n",
      "2023-10-29 15:22:51,773 INFO sqlalchemy.engine.Engine \n",
      "CREATE TABLE user (\n",
      "\tuser_id INTEGER NOT NULL AUTO_INCREMENT, \n",
      "\tuser_name VARCHAR(45) NOT NULL, \n",
      "\temail VARCHAR(255) NOT NULL, \n",
      "\tPRIMARY KEY (user_id), \n",
      "\tUNIQUE (email)\n",
      ")\n",
      "\n",
      "\n",
      "2023-10-29 15:22:51,773 INFO sqlalchemy.engine.Engine [no key 0.00061s] {}\n",
      "2023-10-29 15:22:51,805 INFO sqlalchemy.engine.Engine \n",
      "CREATE TABLE role_permission (\n",
      "\trole_id INTEGER NOT NULL, \n",
      "\tpermission_id INTEGER NOT NULL, \n",
      "\tPRIMARY KEY (role_id, permission_id), \n",
      "\tFOREIGN KEY(role_id) REFERENCES `role` (role_id), \n",
      "\tFOREIGN KEY(permission_id) REFERENCES permission (permission_id)\n",
      ")\n",
      "\n",
      "\n",
      "2023-10-29 15:22:51,805 INFO sqlalchemy.engine.Engine [no key 0.00071s] {}\n",
      "2023-10-29 15:22:51,852 INFO sqlalchemy.engine.Engine \n",
      "CREATE TABLE user_role (\n",
      "\tuser_id INTEGER NOT NULL, \n",
      "\trole_id INTEGER NOT NULL, \n",
      "\tPRIMARY KEY (user_id, role_id), \n",
      "\tFOREIGN KEY(user_id) REFERENCES user (user_id), \n",
      "\tFOREIGN KEY(role_id) REFERENCES `role` (role_id) ON DELETE CASCADE\n",
      ")\n",
      "\n",
      "\n",
      "2023-10-29 15:22:51,852 INFO sqlalchemy.engine.Engine [no key 0.00138s] {}\n",
      "2023-10-29 15:22:51,891 INFO sqlalchemy.engine.Engine \n",
      "CREATE TABLE secret (\n",
      "\tsecret_id INTEGER NOT NULL AUTO_INCREMENT, \n",
      "\tuser_id INTEGER NOT NULL, \n",
      "\tpassword VARCHAR(45) NOT NULL, \n",
      "\texpiry_date DATE NOT NULL, \n",
      "\tPRIMARY KEY (secret_id), \n",
      "\tUNIQUE (user_id), \n",
      "\tFOREIGN KEY(user_id) REFERENCES user (user_id) ON DELETE CASCADE\n",
      ")\n",
      "\n",
      "\n",
      "2023-10-29 15:22:51,892 INFO sqlalchemy.engine.Engine [no key 0.00149s] {}\n",
      "2023-10-29 15:22:51,920 INFO sqlalchemy.engine.Engine \n",
      "CREATE TABLE content (\n",
      "\tcontent_id INTEGER NOT NULL AUTO_INCREMENT, \n",
      "\tuser_id INTEGER NOT NULL, \n",
      "\tcontributor_id INTEGER, \n",
      "\ttitle VARCHAR(45) NOT NULL, \n",
      "\tcontent VARCHAR(255) NOT NULL, \n",
      "\tPRIMARY KEY (content_id), \n",
      "\tFOREIGN KEY(user_id) REFERENCES user (user_id), \n",
      "\tFOREIGN KEY(contributor_id) REFERENCES user (user_id)\n",
      ")\n",
      "\n",
      "\n",
      "2023-10-29 15:22:51,921 INFO sqlalchemy.engine.Engine [no key 0.00089s] {}\n",
      "2023-10-29 15:22:51,957 INFO sqlalchemy.engine.Engine \n",
      "CREATE TABLE comment (\n",
      "\tcomment_id INTEGER NOT NULL AUTO_INCREMENT, \n",
      "\tcontent_id INTEGER NOT NULL, \n",
      "\tuser_id INTEGER NOT NULL, \n",
      "\tcomment VARCHAR(255) NOT NULL, \n",
      "\tdate DATE NOT NULL, \n",
      "\tPRIMARY KEY (comment_id), \n",
      "\tFOREIGN KEY(content_id) REFERENCES content (content_id), \n",
      "\tFOREIGN KEY(user_id) REFERENCES user (user_id)\n",
      ")\n",
      "\n",
      "\n",
      "2023-10-29 15:22:51,959 INFO sqlalchemy.engine.Engine [no key 0.00116s] {}\n",
      "2023-10-29 15:22:51,999 INFO sqlalchemy.engine.Engine COMMIT\n"
     ]
    }
   ],
   "source": [
    "Base.metadata.create_all(engine)"
   ]
  },
  {
   "cell_type": "markdown",
   "metadata": {},
   "source": [
    "## Table: User & Secret\n",
    "\n",
    "- Ref:\n",
    "  - Basic Relation User Guide: https://docs.sqlalchemy.org/en/20/orm/basic_relationships.html\n",
    "  - ORM Relation Object User Guide: https://docs.sqlalchemy.org/en/20/tutorial/orm_related_objects.html\n",
    "  - Cascade Guide: https://docs.sqlalchemy.org/en/20/orm/cascades.html\n",
    "  - Foreign Key API: https://docs.sqlalchemy.org/en/20/core/constraints.html#sqlalchemy.schema.ForeignKey\n",
    "  - relationship API: https://docs.sqlalchemy.org/en/20/orm/relationship_api.html#relationships-api\n"
   ]
  },
  {
   "cell_type": "code",
   "execution_count": 115,
   "metadata": {},
   "outputs": [],
   "source": [
    "users_data = [\n",
    "    {\n",
    "        \"user_name\": \"Johnny\",\n",
    "        \"email\": \"johnny@example.com\",\n",
    "        \"secret\": {\"password\": \"Johnny_hashed_pw\", \"expiry_date\": \"2023-10-10\"},\n",
    "    },\n",
    "    {\n",
    "        \"user_name\": \"Jane\",\n",
    "        \"email\": \"jane@example.com\",\n",
    "        \"secret\": {\"password\": \"Jane_hashed_pw\", \"expiry_date\": \"2023-10-15\"},\n",
    "    },\n",
    "    {\n",
    "        \"user_name\": \"Bravo\",\n",
    "        \"email\": \"bravo@example.com\",\n",
    "        \"secret\": {\"password\": \"Bravo_hashed_pw\", \"expiry_date\": \"2023-10-11\"},\n",
    "    },\n",
    "    {\n",
    "        \"user_name\": \"Doe\",\n",
    "        \"email\": \"doe@example.com\",\n",
    "        \"secret\": {\"password\": \"Doe_hashed_pw\", \"expiry_date\": \"2023-11-6\"},\n",
    "    },\n",
    "    {\n",
    "        \"user_name\": \"Mary\",\n",
    "        \"email\": \"mary@example.com\",\n",
    "        \"secret\": {\"password\": \"Mary_hashed_pw\", \"expiry_date\": \"2023-11-20\"},\n",
    "    },\n",
    "    {\n",
    "        \"user_name\": \"Lisa\",\n",
    "        \"email\": \"lisa@example.com\",\n",
    "        \"secret\": {\"password\": \"Lisa_hashed_pw\", \"expiry_date\": \"2023-12-05\"},\n",
    "    },\n",
    "    {\n",
    "        \"user_name\": \"Raj\",\n",
    "        \"email\": \"raj@example.com\",\n",
    "        \"secret\": {\"password\": \"Raj_hashed_pw\", \"expiry_date\": \"2023-11-28\"},\n",
    "    },\n",
    "    {\n",
    "        \"user_name\": \"Suraj\",\n",
    "        \"email\": \"suraj@example.com\",\n",
    "        \"secret\": {\"password\": \"Suraj_hashed_pw\", \"expiry_date\": \"2023-11-30\"},\n",
    "    },\n",
    "    {\n",
    "        \"user_name\": \"Emma\",\n",
    "        \"email\": \"emma@example.com\",\n",
    "        \"secret\": {\"password\": \"Emma_hashed_pw\", \"expiry_date\": \"2023-12-15\"},\n",
    "    },\n",
    "    {\n",
    "        \"user_name\": \"Ivan\",\n",
    "        \"email\": \"ivan@example.com\",\n",
    "        \"secret\": {\"password\": \"Ivan_hashed_pw\", \"expiry_date\": \"2023-12-6\"},\n",
    "    },\n",
    "]"
   ]
  },
  {
   "cell_type": "code",
   "execution_count": 116,
   "metadata": {},
   "outputs": [],
   "source": [
    "for user_data in users_data:\n",
    "    secret = user_data.pop(\"secret\")\n",
    "    user = User(**user_data)\n",
    "    secret = Secret(**secret)\n",
    "    secret.user = user\n",
    "    session.add_all([user, secret])"
   ]
  },
  {
   "cell_type": "code",
   "execution_count": 117,
   "metadata": {},
   "outputs": [
    {
     "name": "stdout",
     "output_type": "stream",
     "text": [
      "2023-10-29 15:22:52,055 INFO sqlalchemy.engine.Engine BEGIN (implicit)\n",
      "2023-10-29 15:22:52,055 INFO sqlalchemy.engine.Engine INSERT INTO user (user_name, email) VALUES (%(user_name)s, %(email)s)\n",
      "2023-10-29 15:22:52,055 INFO sqlalchemy.engine.Engine [generated in 0.00070s] {'user_name': 'Johnny', 'email': 'johnny@example.com'}\n",
      "2023-10-29 15:22:52,075 INFO sqlalchemy.engine.Engine INSERT INTO user (user_name, email) VALUES (%(user_name)s, %(email)s)\n",
      "2023-10-29 15:22:52,076 INFO sqlalchemy.engine.Engine [cached since 0.006568s ago] {'user_name': 'Jane', 'email': 'jane@example.com'}\n",
      "2023-10-29 15:22:52,077 INFO sqlalchemy.engine.Engine INSERT INTO user (user_name, email) VALUES (%(user_name)s, %(email)s)\n",
      "2023-10-29 15:22:52,078 INFO sqlalchemy.engine.Engine [cached since 0.009157s ago] {'user_name': 'Bravo', 'email': 'bravo@example.com'}\n",
      "2023-10-29 15:22:52,080 INFO sqlalchemy.engine.Engine INSERT INTO user (user_name, email) VALUES (%(user_name)s, %(email)s)\n",
      "2023-10-29 15:22:52,080 INFO sqlalchemy.engine.Engine [cached since 0.01136s ago] {'user_name': 'Doe', 'email': 'doe@example.com'}\n",
      "2023-10-29 15:22:52,082 INFO sqlalchemy.engine.Engine INSERT INTO user (user_name, email) VALUES (%(user_name)s, %(email)s)\n",
      "2023-10-29 15:22:52,082 INFO sqlalchemy.engine.Engine [cached since 0.0133s ago] {'user_name': 'Mary', 'email': 'mary@example.com'}\n",
      "2023-10-29 15:22:52,083 INFO sqlalchemy.engine.Engine INSERT INTO user (user_name, email) VALUES (%(user_name)s, %(email)s)\n",
      "2023-10-29 15:22:52,084 INFO sqlalchemy.engine.Engine [cached since 0.01503s ago] {'user_name': 'Lisa', 'email': 'lisa@example.com'}\n",
      "2023-10-29 15:22:52,085 INFO sqlalchemy.engine.Engine INSERT INTO user (user_name, email) VALUES (%(user_name)s, %(email)s)\n",
      "2023-10-29 15:22:52,086 INFO sqlalchemy.engine.Engine [cached since 0.01739s ago] {'user_name': 'Raj', 'email': 'raj@example.com'}\n",
      "2023-10-29 15:22:52,089 INFO sqlalchemy.engine.Engine INSERT INTO user (user_name, email) VALUES (%(user_name)s, %(email)s)\n",
      "2023-10-29 15:22:52,090 INFO sqlalchemy.engine.Engine [cached since 0.0201s ago] {'user_name': 'Suraj', 'email': 'suraj@example.com'}\n",
      "2023-10-29 15:22:52,091 INFO sqlalchemy.engine.Engine INSERT INTO user (user_name, email) VALUES (%(user_name)s, %(email)s)\n",
      "2023-10-29 15:22:52,092 INFO sqlalchemy.engine.Engine [cached since 0.02202s ago] {'user_name': 'Emma', 'email': 'emma@example.com'}\n",
      "2023-10-29 15:22:52,093 INFO sqlalchemy.engine.Engine INSERT INTO user (user_name, email) VALUES (%(user_name)s, %(email)s)\n",
      "2023-10-29 15:22:52,095 INFO sqlalchemy.engine.Engine [cached since 0.02493s ago] {'user_name': 'Ivan', 'email': 'ivan@example.com'}\n",
      "2023-10-29 15:22:52,099 INFO sqlalchemy.engine.Engine INSERT INTO secret (user_id, password, expiry_date) VALUES (%(user_id)s, %(password)s, %(expiry_date)s)\n",
      "2023-10-29 15:22:52,101 INFO sqlalchemy.engine.Engine [generated in 0.00147s] {'user_id': 1, 'password': 'Johnny_hashed_pw', 'expiry_date': '2023-10-10'}\n",
      "2023-10-29 15:22:52,104 INFO sqlalchemy.engine.Engine INSERT INTO secret (user_id, password, expiry_date) VALUES (%(user_id)s, %(password)s, %(expiry_date)s)\n",
      "2023-10-29 15:22:52,106 INFO sqlalchemy.engine.Engine [cached since 0.007686s ago] {'user_id': 2, 'password': 'Jane_hashed_pw', 'expiry_date': '2023-10-15'}\n",
      "2023-10-29 15:22:52,109 INFO sqlalchemy.engine.Engine INSERT INTO secret (user_id, password, expiry_date) VALUES (%(user_id)s, %(password)s, %(expiry_date)s)\n",
      "2023-10-29 15:22:52,110 INFO sqlalchemy.engine.Engine [cached since 0.01111s ago] {'user_id': 3, 'password': 'Bravo_hashed_pw', 'expiry_date': '2023-10-11'}\n",
      "2023-10-29 15:22:52,112 INFO sqlalchemy.engine.Engine INSERT INTO secret (user_id, password, expiry_date) VALUES (%(user_id)s, %(password)s, %(expiry_date)s)\n",
      "2023-10-29 15:22:52,113 INFO sqlalchemy.engine.Engine [cached since 0.01451s ago] {'user_id': 4, 'password': 'Doe_hashed_pw', 'expiry_date': '2023-11-6'}\n",
      "2023-10-29 15:22:52,115 INFO sqlalchemy.engine.Engine INSERT INTO secret (user_id, password, expiry_date) VALUES (%(user_id)s, %(password)s, %(expiry_date)s)\n",
      "2023-10-29 15:22:52,116 INFO sqlalchemy.engine.Engine [cached since 0.01798s ago] {'user_id': 5, 'password': 'Mary_hashed_pw', 'expiry_date': '2023-11-20'}\n",
      "2023-10-29 15:22:52,119 INFO sqlalchemy.engine.Engine INSERT INTO secret (user_id, password, expiry_date) VALUES (%(user_id)s, %(password)s, %(expiry_date)s)\n",
      "2023-10-29 15:22:52,120 INFO sqlalchemy.engine.Engine [cached since 0.02133s ago] {'user_id': 6, 'password': 'Lisa_hashed_pw', 'expiry_date': '2023-12-05'}\n",
      "2023-10-29 15:22:52,123 INFO sqlalchemy.engine.Engine INSERT INTO secret (user_id, password, expiry_date) VALUES (%(user_id)s, %(password)s, %(expiry_date)s)\n",
      "2023-10-29 15:22:52,125 INFO sqlalchemy.engine.Engine [cached since 0.02638s ago] {'user_id': 7, 'password': 'Raj_hashed_pw', 'expiry_date': '2023-11-28'}\n",
      "2023-10-29 15:22:52,127 INFO sqlalchemy.engine.Engine INSERT INTO secret (user_id, password, expiry_date) VALUES (%(user_id)s, %(password)s, %(expiry_date)s)\n",
      "2023-10-29 15:22:52,128 INFO sqlalchemy.engine.Engine [cached since 0.02903s ago] {'user_id': 8, 'password': 'Suraj_hashed_pw', 'expiry_date': '2023-11-30'}\n",
      "2023-10-29 15:22:52,129 INFO sqlalchemy.engine.Engine INSERT INTO secret (user_id, password, expiry_date) VALUES (%(user_id)s, %(password)s, %(expiry_date)s)\n",
      "2023-10-29 15:22:52,130 INFO sqlalchemy.engine.Engine [cached since 0.03157s ago] {'user_id': 9, 'password': 'Emma_hashed_pw', 'expiry_date': '2023-12-15'}\n",
      "2023-10-29 15:22:52,132 INFO sqlalchemy.engine.Engine INSERT INTO secret (user_id, password, expiry_date) VALUES (%(user_id)s, %(password)s, %(expiry_date)s)\n",
      "2023-10-29 15:22:52,133 INFO sqlalchemy.engine.Engine [cached since 0.03407s ago] {'user_id': 10, 'password': 'Ivan_hashed_pw', 'expiry_date': '2023-12-6'}\n",
      "2023-10-29 15:22:52,136 INFO sqlalchemy.engine.Engine COMMIT\n"
     ]
    }
   ],
   "source": [
    "session.commit()"
   ]
  },
  {
   "cell_type": "markdown",
   "metadata": {},
   "source": [
    "## Select\n",
    "\n",
    "- Ref:\n",
    "  - ORM Query Guide: https://docs.sqlalchemy.org/en/20/orm/queryguide/index.html\n",
    "  - ORM Select Guide: https://docs.sqlalchemy.org/en/20/orm/queryguide/select.html\n",
    "  - Session Query **(_Legacy as of 2.0_)** : https://docs.sqlalchemy.org/en/20/orm/session_api.html#sqlalchemy.orm.Session.query\n"
   ]
  },
  {
   "cell_type": "markdown",
   "metadata": {},
   "source": [
    "### User\n"
   ]
  },
  {
   "cell_type": "code",
   "execution_count": 118,
   "metadata": {},
   "outputs": [
    {
     "name": "stdout",
     "output_type": "stream",
     "text": [
      "2023-10-29 15:22:52,156 INFO sqlalchemy.engine.Engine BEGIN (implicit)\n",
      "2023-10-29 15:22:52,159 INFO sqlalchemy.engine.Engine SELECT user.user_id, user.user_name, user.email \n",
      "FROM user\n",
      "2023-10-29 15:22:52,160 INFO sqlalchemy.engine.Engine [generated in 0.00078s] {}\n",
      "User(id=1, name='Johnny', email='johnny@example.com')\n",
      "User(id=2, name='Jane', email='jane@example.com')\n",
      "User(id=3, name='Bravo', email='bravo@example.com')\n",
      "User(id=4, name='Doe', email='doe@example.com')\n",
      "User(id=5, name='Mary', email='mary@example.com')\n",
      "User(id=6, name='Lisa', email='lisa@example.com')\n",
      "User(id=7, name='Raj', email='raj@example.com')\n",
      "User(id=8, name='Suraj', email='suraj@example.com')\n",
      "User(id=9, name='Emma', email='emma@example.com')\n",
      "User(id=10, name='Ivan', email='ivan@example.com')\n"
     ]
    }
   ],
   "source": [
    "for i in session.scalars(select(User)):  # generator\n",
    "    print(i)"
   ]
  },
  {
   "cell_type": "code",
   "execution_count": 119,
   "metadata": {},
   "outputs": [
    {
     "name": "stdout",
     "output_type": "stream",
     "text": [
      "2023-10-29 15:22:52,186 INFO sqlalchemy.engine.Engine SELECT user.user_id, user.user_name, user.email \n",
      "FROM user\n",
      "2023-10-29 15:22:52,189 INFO sqlalchemy.engine.Engine [cached since 0.02922s ago] {}\n"
     ]
    },
    {
     "data": {
      "text/plain": [
       "[(User(id=1, name='Johnny', email='johnny@example.com'),),\n",
       " (User(id=2, name='Jane', email='jane@example.com'),),\n",
       " (User(id=3, name='Bravo', email='bravo@example.com'),),\n",
       " (User(id=4, name='Doe', email='doe@example.com'),),\n",
       " (User(id=5, name='Mary', email='mary@example.com'),),\n",
       " (User(id=6, name='Lisa', email='lisa@example.com'),),\n",
       " (User(id=7, name='Raj', email='raj@example.com'),),\n",
       " (User(id=8, name='Suraj', email='suraj@example.com'),),\n",
       " (User(id=9, name='Emma', email='emma@example.com'),),\n",
       " (User(id=10, name='Ivan', email='ivan@example.com'),)]"
      ]
     },
     "execution_count": 119,
     "metadata": {},
     "output_type": "execute_result"
    }
   ],
   "source": [
    "session.execute(select(User)).all()  # returns row and not scalar object"
   ]
  },
  {
   "cell_type": "code",
   "execution_count": 120,
   "metadata": {},
   "outputs": [
    {
     "name": "stdout",
     "output_type": "stream",
     "text": [
      "2023-10-29 15:22:52,212 INFO sqlalchemy.engine.Engine SELECT user.user_id AS user_user_id, user.user_name AS user_user_name, user.email AS user_email \n",
      "FROM user\n",
      "2023-10-29 15:22:52,213 INFO sqlalchemy.engine.Engine [generated in 0.00120s] {}\n"
     ]
    },
    {
     "data": {
      "text/plain": [
       "[User(id=1, name='Johnny', email='johnny@example.com'),\n",
       " User(id=2, name='Jane', email='jane@example.com'),\n",
       " User(id=3, name='Bravo', email='bravo@example.com'),\n",
       " User(id=4, name='Doe', email='doe@example.com'),\n",
       " User(id=5, name='Mary', email='mary@example.com'),\n",
       " User(id=6, name='Lisa', email='lisa@example.com'),\n",
       " User(id=7, name='Raj', email='raj@example.com'),\n",
       " User(id=8, name='Suraj', email='suraj@example.com'),\n",
       " User(id=9, name='Emma', email='emma@example.com'),\n",
       " User(id=10, name='Ivan', email='ivan@example.com')]"
      ]
     },
     "execution_count": 120,
     "metadata": {},
     "output_type": "execute_result"
    }
   ],
   "source": [
    "# LEGACY as of 2.0\n",
    "session.query(User).all()  # list, list with scalars in Select Secret"
   ]
  },
  {
   "cell_type": "markdown",
   "metadata": {},
   "source": [
    "### Secret\n"
   ]
  },
  {
   "cell_type": "code",
   "execution_count": 121,
   "metadata": {},
   "outputs": [
    {
     "name": "stdout",
     "output_type": "stream",
     "text": [
      "2023-10-29 15:22:52,242 INFO sqlalchemy.engine.Engine SELECT secret.secret_id, secret.user_id, secret.password, secret.expiry_date \n",
      "FROM secret \n",
      "WHERE secret.expiry_date < %(expiry_date_1)s\n",
      "2023-10-29 15:22:52,243 INFO sqlalchemy.engine.Engine [generated in 0.00121s] {'expiry_date_1': '2023-11-01'}\n"
     ]
    },
    {
     "data": {
      "text/plain": [
       "[Secret(id=1, user=1), Secret(id=2, user=2), Secret(id=3, user=3)]"
      ]
     },
     "execution_count": 121,
     "metadata": {},
     "output_type": "execute_result"
    }
   ],
   "source": [
    "session.scalars(\n",
    "    select(Secret).where(Secret.expiry_date < \"2023-11-01\")  # filter or where\n",
    ").all()  # list"
   ]
  },
  {
   "cell_type": "code",
   "execution_count": 122,
   "metadata": {},
   "outputs": [
    {
     "name": "stdout",
     "output_type": "stream",
     "text": [
      "2023-10-29 15:22:52,258 INFO sqlalchemy.engine.Engine SELECT secret.secret_id AS secret_secret_id, secret.user_id AS secret_user_id, secret.password AS secret_password, secret.expiry_date AS secret_expiry_date \n",
      "FROM secret \n",
      "WHERE secret.expiry_date < %(expiry_date_1)s\n",
      "2023-10-29 15:22:52,259 INFO sqlalchemy.engine.Engine [generated in 0.00084s] {'expiry_date_1': '2023-11-01'}\n"
     ]
    },
    {
     "data": {
      "text/plain": [
       "[Secret(id=1, user=1), Secret(id=2, user=2), Secret(id=3, user=3)]"
      ]
     },
     "execution_count": 122,
     "metadata": {},
     "output_type": "execute_result"
    }
   ],
   "source": [
    "# LEGACY as of 2.0\n",
    "session.query(Secret).filter(\n",
    "    Secret.expiry_date < \"2023-11-01\"\n",
    ").all()  # filter or where"
   ]
  },
  {
   "cell_type": "markdown",
   "metadata": {},
   "source": [
    "### Secret & User\n"
   ]
  },
  {
   "cell_type": "code",
   "execution_count": 123,
   "metadata": {},
   "outputs": [
    {
     "name": "stdout",
     "output_type": "stream",
     "text": [
      "----------------------------------------------------------------------------------------------------\n",
      "query=SELECT secret.secret_id, secret.user_id, secret.password, secret.expiry_date, \"user\".user_id AS user_id_1, \"user\".user_name, \"user\".email \n",
      "FROM secret JOIN \"user\" ON \"user\".user_id = secret.user_id \n",
      "WHERE secret.expiry_date < :expiry_date_1\n",
      "----------------------------------------------------------------------------------------------------\n",
      "2023-10-29 15:22:52,278 INFO sqlalchemy.engine.Engine SELECT secret.secret_id, secret.user_id, secret.password, secret.expiry_date, user.user_id AS user_id_1, user.user_name, user.email \n",
      "FROM secret INNER JOIN user ON user.user_id = secret.user_id \n",
      "WHERE secret.expiry_date < %(expiry_date_1)s\n",
      "2023-10-29 15:22:52,279 INFO sqlalchemy.engine.Engine [generated in 0.00096s] {'expiry_date_1': '2023-11-01'}\n",
      "Secret(id=1, user=1) User(id=1, name='Johnny', email='johnny@example.com')\n",
      "Secret(id=2, user=2) User(id=2, name='Jane', email='jane@example.com')\n",
      "Secret(id=3, user=3) User(id=3, name='Bravo', email='bravo@example.com')\n"
     ]
    }
   ],
   "source": [
    "query = (\n",
    "    select(Secret, User)\n",
    "    .join(Secret.user)\n",
    "    .where(Secret.expiry_date < \"2023-11-01\")\n",
    ")\n",
    "print(\"\".center(100, \"-\"))\n",
    "print(f\"{query=!s}\")\n",
    "print(\"\".center(100, \"-\"))\n",
    "for secret_user in session.scalars(\n",
    "    query\n",
    "):  # we are not doing extra query for user\n",
    "    print(secret_user, secret_user.user)"
   ]
  },
  {
   "cell_type": "markdown",
   "metadata": {},
   "source": [
    "## Table: Role, Permission & Role_Permission\n",
    "\n",
    "- Ref:\n",
    "  - Core CRUD Tutorial: https://docs.sqlalchemy.org/en/20/tutorial/data.html\n",
    "  - Core DML: https://docs.sqlalchemy.org/en/20/core/dml.html\n"
   ]
  },
  {
   "cell_type": "markdown",
   "metadata": {},
   "source": [
    "## Bulk CRUD\n",
    "\n",
    "- Ref:\n",
    "  - ORM Bulk CRUD: https://docs.sqlalchemy.org/en/20/orm/queryguide/dml.html\n",
    "  - ORM Single Update & Delete: https://docs.sqlalchemy.org/en/20/orm/queryguide/dml.html#orm-update-and-delete-with-custom-where-criteria\n"
   ]
  },
  {
   "cell_type": "code",
   "execution_count": 124,
   "metadata": {},
   "outputs": [
    {
     "name": "stdout",
     "output_type": "stream",
     "text": [
      "2023-10-29 15:22:52,295 INFO sqlalchemy.engine.Engine INSERT INTO `role` (role_name, description) VALUES (%(role_name)s, %(description)s)\n",
      "2023-10-29 15:22:52,296 INFO sqlalchemy.engine.Engine [generated in 0.00090s] [{'role_name': 'Administrator', 'description': 'Root role with all permissions'}, {'role_name': 'Editor', 'description': 'Publish, edit, view, comment and moderate comments'}, {'role_name': 'Author', 'description': 'Create articles, view and comment'}, {'role_name': 'Contributor', 'description': 'Contribute articles for other author, view and comment'}, {'role_name': 'Viewer', 'description': 'Able to view and comment'}]\n"
     ]
    },
    {
     "data": {
      "text/plain": [
       "<sqlalchemy.engine.result.IteratorResult at 0x19012fb9400>"
      ]
     },
     "execution_count": 124,
     "metadata": {},
     "output_type": "execute_result"
    }
   ],
   "source": [
    "session.execute(\n",
    "    insert(Role),\n",
    "    [\n",
    "        {\n",
    "            \"role_name\": \"Administrator\",\n",
    "            \"description\": \"Root role with all permissions\",\n",
    "        },\n",
    "        {\n",
    "            \"role_name\": \"Editor\",\n",
    "            \"description\": \"Publish, edit, view, comment and moderate comments\",\n",
    "        },\n",
    "        {\n",
    "            \"role_name\": \"Author\",\n",
    "            \"description\": \"Create articles, view and comment\",\n",
    "        },\n",
    "        {\n",
    "            \"role_name\": \"Contributor\",\n",
    "            \"description\": \"Contribute articles for other author, view and comment\",\n",
    "        },\n",
    "        {\"role_name\": \"Viewer\", \"description\": \"Able to view and comment\"},\n",
    "    ],\n",
    ")"
   ]
  },
  {
   "cell_type": "code",
   "execution_count": 125,
   "metadata": {},
   "outputs": [
    {
     "name": "stdout",
     "output_type": "stream",
     "text": [
      "2023-10-29 15:22:52,323 INFO sqlalchemy.engine.Engine INSERT INTO permission (permission_name, description) VALUES (%(permission_name)s, %(description)s)\n",
      "2023-10-29 15:22:52,324 INFO sqlalchemy.engine.Engine [generated in 0.00109s] [{'permission_name': 'MyContent', 'description': 'Create, edit and delete own contents'}, {'permission_name': 'Create', 'description': 'Create content'}, {'permission_name': 'Publish', 'description': 'Publish content'}, {'permission_name': 'Edit', 'description': 'Edit Content'}, {'permission_name': 'Delete', 'description': 'Delete Content'}, {'permission_name': 'View', 'description': 'View Content'}, {'permission_name': 'MyComment', 'description': 'Add, edit and delete own comments'}, {'permission_name': 'Moderate Comment', 'description': \"Edit or delete other's comments\"}  ... displaying 10 of 11 total bound parameter sets ...  {'permission_name': 'Manage Role', 'description': 'Add, edit and remove roles'}, {'permission_name': 'Analytics', 'description': 'Access to analysis'}]\n"
     ]
    },
    {
     "data": {
      "text/plain": [
       "<sqlalchemy.engine.result.IteratorResult at 0x19012f97300>"
      ]
     },
     "execution_count": 125,
     "metadata": {},
     "output_type": "execute_result"
    }
   ],
   "source": [
    "session.execute(\n",
    "    insert(Permission),\n",
    "    [\n",
    "        {\n",
    "            \"permission_name\": \"MyContent\",\n",
    "            \"description\": \"Create, edit and delete own contents\",\n",
    "        },\n",
    "        {\"permission_name\": \"Create\", \"description\": \"Create content\"},\n",
    "        {\"permission_name\": \"Publish\", \"description\": \"Publish content\"},\n",
    "        {\"permission_name\": \"Edit\", \"description\": \"Edit Content\"},\n",
    "        {\"permission_name\": \"Delete\", \"description\": \"Delete Content\"},\n",
    "        {\"permission_name\": \"View\", \"description\": \"View Content\"},\n",
    "        {\n",
    "            \"permission_name\": \"MyComment\",\n",
    "            \"description\": \"Add, edit and delete own comments\",\n",
    "        },\n",
    "        {\n",
    "            \"permission_name\": \"Moderate Comment\",\n",
    "            \"description\": \"Edit or delete other's comments\",\n",
    "        },\n",
    "        {\n",
    "            \"permission_name\": \"Manage User\",\n",
    "            \"description\": \"Add or remove users\",\n",
    "        },\n",
    "        {\n",
    "            \"permission_name\": \"Manage Role\",\n",
    "            \"description\": \"Add, edit and remove roles\",\n",
    "        },\n",
    "        {\n",
    "            \"permission_name\": \"Analytics\",\n",
    "            \"description\": \"Access to analysis\",\n",
    "        },\n",
    "    ],\n",
    ")"
   ]
  },
  {
   "cell_type": "code",
   "execution_count": 126,
   "metadata": {},
   "outputs": [
    {
     "name": "stdout",
     "output_type": "stream",
     "text": [
      "2023-10-29 15:22:52,337 INFO sqlalchemy.engine.Engine COMMIT\n"
     ]
    }
   ],
   "source": [
    "session.commit()"
   ]
  },
  {
   "cell_type": "code",
   "execution_count": 127,
   "metadata": {},
   "outputs": [],
   "source": [
    "# in actual use case setting we would be referencing id from inserted object itself\n",
    "# Here it's fixed mapping of role and permission and for blog purpose\n",
    "role_permission_mapping = [\n",
    "    {\"role_id\": 1, \"permission_id\": 1},\n",
    "    {\"role_id\": 1, \"permission_id\": 2},\n",
    "    {\"role_id\": 1, \"permission_id\": 3},\n",
    "    {\"role_id\": 1, \"permission_id\": 4},\n",
    "    {\"role_id\": 1, \"permission_id\": 5},\n",
    "    {\"role_id\": 1, \"permission_id\": 6},\n",
    "    {\"role_id\": 1, \"permission_id\": 7},\n",
    "    {\"role_id\": 1, \"permission_id\": 8},\n",
    "    {\"role_id\": 1, \"permission_id\": 9},\n",
    "    {\"role_id\": 1, \"permission_id\": 10},\n",
    "    {\"role_id\": 1, \"permission_id\": 11},\n",
    "    {\"role_id\": 2, \"permission_id\": 3},\n",
    "    {\"role_id\": 2, \"permission_id\": 4},\n",
    "    {\"role_id\": 2, \"permission_id\": 6},\n",
    "    {\"role_id\": 2, \"permission_id\": 7},\n",
    "    {\"role_id\": 2, \"permission_id\": 8},\n",
    "    {\"role_id\": 3, \"permission_id\": 1},\n",
    "    {\"role_id\": 3, \"permission_id\": 6},\n",
    "    {\"role_id\": 3, \"permission_id\": 7},\n",
    "    {\"role_id\": 4, \"permission_id\": 2},\n",
    "    {\"role_id\": 4, \"permission_id\": 6},\n",
    "    {\"role_id\": 4, \"permission_id\": 7},\n",
    "    {\"role_id\": 5, \"permission_id\": 6},\n",
    "    {\"role_id\": 5, \"permission_id\": 7},\n",
    "]"
   ]
  },
  {
   "cell_type": "code",
   "execution_count": 128,
   "metadata": {},
   "outputs": [
    {
     "name": "stdout",
     "output_type": "stream",
     "text": [
      "2023-10-29 15:22:52,395 INFO sqlalchemy.engine.Engine BEGIN (implicit)\n",
      "2023-10-29 15:22:52,398 INFO sqlalchemy.engine.Engine INSERT INTO role_permission (role_id, permission_id) VALUES (%(role_id_m0)s, %(permission_id_m0)s), (%(role_id_m1)s, %(permission_id_m1)s), (%(role_id_m2)s, %(permission_id_m2)s), (%(role_id_m3)s, %(permission_id_m3)s), (%(role_id_m4)s, %(permission_id_m4)s), (%(role_id_m5)s, %(permission_id_m5)s), (%(role_id_m6)s, %(permission_id_m6)s), (%(role_id_m7)s, %(permission_id_m7)s), (%(role_id_m8)s, %(permission_id_m8)s), (%(role_id_m9)s, %(permission_id_m9)s), (%(role_id_m10)s, %(permission_id_m10)s), (%(role_id_m11)s, %(permission_id_m11)s), (%(role_id_m12)s, %(permission_id_m12)s), (%(role_id_m13)s, %(permission_id_m13)s), (%(role_id_m14)s, %(permission_id_m14)s), (%(role_id_m15)s, %(permission_id_m15)s), (%(role_id_m16)s, %(permission_id_m16)s), (%(role_id_m17)s, %(permission_id_m17)s), (%(role_id_m18)s, %(permission_id_m18)s), (%(role_id_m19)s, %(permission_id_m19)s), (%(role_id_m20)s, %(permission_id_m20)s), (%(role_id_m21)s, %(permission_id_m21)s), (%(role_id_m22)s, %(permission_id_m22)s), (%(role_id_m23)s, %(permission_id_m23)s)\n",
      "2023-10-29 15:22:52,399 INFO sqlalchemy.engine.Engine [no key 0.00142s] {'role_id_m0': 1, 'permission_id_m0': 1, 'role_id_m1': 1, 'permission_id_m1': 2, 'role_id_m2': 1, 'permission_id_m2': 3, 'role_id_m3': 1, 'permission_id_m3': 4, 'role_id_m4': 1, 'permission_id_m4': 5, 'role_id_m5': 1, 'permission_id_m5': 6, 'role_id_m6': 1, 'permission_id_m6': 7, 'role_id_m7': 1, 'permission_id_m7': 8, 'role_id_m8': 1, 'permission_id_m8': 9, 'role_id_m9': 1, 'permission_id_m9': 10, 'role_id_m10': 1, 'permission_id_m10': 11, 'role_id_m11': 2, 'permission_id_m11': 3, 'role_id_m12': 2, 'permission_id_m12': 4, 'role_id_m13': 2, 'permission_id_m13': 6, 'role_id_m14': 2, 'permission_id_m14': 7, 'role_id_m15': 2, 'permission_id_m15': 8, 'role_id_m16': 3, 'permission_id_m16': 1, 'role_id_m17': 3, 'permission_id_m17': 6, 'role_id_m18': 3, 'permission_id_m18': 7, 'role_id_m19': 4, 'permission_id_m19': 2, 'role_id_m20': 4, 'permission_id_m20': 6, 'role_id_m21': 4, 'permission_id_m21': 7, 'role_id_m22': 5, 'permission_id_m22': 6, 'role_id_m23': 5, 'permission_id_m23': 7}\n",
      "2023-10-29 15:22:52,402 INFO sqlalchemy.engine.Engine COMMIT\n"
     ]
    }
   ],
   "source": [
    "# manual approach of many-to-many relation\n",
    "session.execute(role_permission.insert().values(role_permission_mapping))\n",
    "session.commit()"
   ]
  },
  {
   "cell_type": "markdown",
   "metadata": {},
   "source": [
    "## Single Select\n"
   ]
  },
  {
   "cell_type": "code",
   "execution_count": 129,
   "metadata": {},
   "outputs": [
    {
     "name": "stdout",
     "output_type": "stream",
     "text": [
      "2023-10-29 15:22:52,425 INFO sqlalchemy.engine.Engine BEGIN (implicit)\n",
      "2023-10-29 15:22:52,427 INFO sqlalchemy.engine.Engine SELECT `role`.role_id, `role`.role_name, `role`.description \n",
      "FROM `role`\n",
      "2023-10-29 15:22:52,428 INFO sqlalchemy.engine.Engine [generated in 0.00071s] {}\n",
      "===================Role Result====================\n"
     ]
    },
    {
     "data": {
      "text/plain": [
       "[Role(id=1, name='Administrator'),\n",
       " Role(id=2, name='Editor'),\n",
       " Role(id=3, name='Author'),\n",
       " Role(id=4, name='Contributor'),\n",
       " Role(id=5, name='Viewer')]"
      ]
     },
     "execution_count": 129,
     "metadata": {},
     "output_type": "execute_result"
    }
   ],
   "source": [
    "role_res = session.scalars(\n",
    "    select(Role)\n",
    ").all()  # not executing Join, i.e. associated data is not populated\n",
    "\n",
    "print(\"Role Result\".center(50, \"=\"))\n",
    "role_res"
   ]
  },
  {
   "cell_type": "code",
   "execution_count": 130,
   "metadata": {},
   "outputs": [
    {
     "name": "stdout",
     "output_type": "stream",
     "text": [
      "======================================Role & Permission Result======================================\n",
      "2023-10-29 15:22:52,445 INFO sqlalchemy.engine.Engine SELECT permission.permission_id AS permission_permission_id, permission.permission_name AS permission_permission_name, permission.description AS permission_description \n",
      "FROM permission, role_permission \n",
      "WHERE %(param_1)s = role_permission.role_id AND permission.permission_id = role_permission.permission_id\n",
      "2023-10-29 15:22:52,446 INFO sqlalchemy.engine.Engine [generated in 0.00094s] {'param_1': 1}\n",
      "Role(id=1, name='Administrator') [Permission(id=1, user='MyContent'), Permission(id=2, user='Create'), Permission(id=3, user='Publish'), Permission(id=4, user='Edit'), Permission(id=5, user='Delete'), Permission(id=6, user='View'), Permission(id=7, user='MyComment'), Permission(id=8, user='Moderate Comment'), Permission(id=9, user='Manage User'), Permission(id=10, user='Manage Role'), Permission(id=11, user='Analytics')]\n",
      "\n",
      "2023-10-29 15:22:52,449 INFO sqlalchemy.engine.Engine SELECT permission.permission_id AS permission_permission_id, permission.permission_name AS permission_permission_name, permission.description AS permission_description \n",
      "FROM permission, role_permission \n",
      "WHERE %(param_1)s = role_permission.role_id AND permission.permission_id = role_permission.permission_id\n",
      "2023-10-29 15:22:52,449 INFO sqlalchemy.engine.Engine [cached since 0.00426s ago] {'param_1': 2}\n",
      "Role(id=2, name='Editor') [Permission(id=3, user='Publish'), Permission(id=4, user='Edit'), Permission(id=6, user='View'), Permission(id=7, user='MyComment'), Permission(id=8, user='Moderate Comment')]\n",
      "\n",
      "2023-10-29 15:22:52,453 INFO sqlalchemy.engine.Engine SELECT permission.permission_id AS permission_permission_id, permission.permission_name AS permission_permission_name, permission.description AS permission_description \n",
      "FROM permission, role_permission \n",
      "WHERE %(param_1)s = role_permission.role_id AND permission.permission_id = role_permission.permission_id\n",
      "2023-10-29 15:22:52,454 INFO sqlalchemy.engine.Engine [cached since 0.008988s ago] {'param_1': 3}\n",
      "Role(id=3, name='Author') [Permission(id=1, user='MyContent'), Permission(id=6, user='View'), Permission(id=7, user='MyComment')]\n",
      "\n",
      "2023-10-29 15:22:52,458 INFO sqlalchemy.engine.Engine SELECT permission.permission_id AS permission_permission_id, permission.permission_name AS permission_permission_name, permission.description AS permission_description \n",
      "FROM permission, role_permission \n",
      "WHERE %(param_1)s = role_permission.role_id AND permission.permission_id = role_permission.permission_id\n",
      "2023-10-29 15:22:52,458 INFO sqlalchemy.engine.Engine [cached since 0.01324s ago] {'param_1': 4}\n",
      "Role(id=4, name='Contributor') [Permission(id=2, user='Create'), Permission(id=6, user='View'), Permission(id=7, user='MyComment')]\n",
      "\n",
      "2023-10-29 15:22:52,461 INFO sqlalchemy.engine.Engine SELECT permission.permission_id AS permission_permission_id, permission.permission_name AS permission_permission_name, permission.description AS permission_description \n",
      "FROM permission, role_permission \n",
      "WHERE %(param_1)s = role_permission.role_id AND permission.permission_id = role_permission.permission_id\n",
      "2023-10-29 15:22:52,461 INFO sqlalchemy.engine.Engine [cached since 0.01599s ago] {'param_1': 5}\n",
      "Role(id=5, name='Viewer') [Permission(id=6, user='View'), Permission(id=7, user='MyComment')]\n",
      "\n"
     ]
    }
   ],
   "source": [
    "print(\"Role & Permission Result\".center(100, \"=\"))\n",
    "# now we want permission also, we can iterate .permission property on role_res itself to fetch\n",
    "for role in role_res:\n",
    "    print(\n",
    "        role, role.permissions\n",
    "    )  # will execute explicit SELECT to fetch permission\n",
    "    print()"
   ]
  },
  {
   "cell_type": "markdown",
   "metadata": {},
   "source": [
    "## Join Select\n"
   ]
  },
  {
   "cell_type": "code",
   "execution_count": 131,
   "metadata": {},
   "outputs": [
    {
     "name": "stdout",
     "output_type": "stream",
     "text": [
      "----------------------------------------------------------------------------------------------------\n",
      "query=SELECT role.role_id, role.role_name, role.description, permission.permission_id, permission.permission_name, permission.description AS description_1 \n",
      "FROM role_permission JOIN role ON role.role_id = role_permission.role_id JOIN permission ON permission.permission_id = role_permission.permission_id\n",
      "----------------------------------------------------------------------------------------------------\n",
      "2023-10-29 15:22:52,482 INFO sqlalchemy.engine.Engine SELECT `role`.role_id, `role`.role_name, `role`.description, permission.permission_id, permission.permission_name, permission.description AS description_1 \n",
      "FROM role_permission INNER JOIN `role` ON `role`.role_id = role_permission.role_id INNER JOIN permission ON permission.permission_id = role_permission.permission_id\n",
      "2023-10-29 15:22:52,482 INFO sqlalchemy.engine.Engine [generated in 0.00150s] {}\n",
      "Role(id=1, name='Administrator') [Permission(id=1, user='MyContent'), Permission(id=2, user='Create'), Permission(id=3, user='Publish'), Permission(id=4, user='Edit'), Permission(id=5, user='Delete'), Permission(id=6, user='View'), Permission(id=7, user='MyComment'), Permission(id=8, user='Moderate Comment'), Permission(id=9, user='Manage User'), Permission(id=10, user='Manage Role'), Permission(id=11, user='Analytics')]\n",
      "Role(id=1, name='Administrator') [Permission(id=1, user='MyContent'), Permission(id=2, user='Create'), Permission(id=3, user='Publish'), Permission(id=4, user='Edit'), Permission(id=5, user='Delete'), Permission(id=6, user='View'), Permission(id=7, user='MyComment'), Permission(id=8, user='Moderate Comment'), Permission(id=9, user='Manage User'), Permission(id=10, user='Manage Role'), Permission(id=11, user='Analytics')]\n",
      "Role(id=1, name='Administrator') [Permission(id=1, user='MyContent'), Permission(id=2, user='Create'), Permission(id=3, user='Publish'), Permission(id=4, user='Edit'), Permission(id=5, user='Delete'), Permission(id=6, user='View'), Permission(id=7, user='MyComment'), Permission(id=8, user='Moderate Comment'), Permission(id=9, user='Manage User'), Permission(id=10, user='Manage Role'), Permission(id=11, user='Analytics')]\n",
      "Role(id=1, name='Administrator') [Permission(id=1, user='MyContent'), Permission(id=2, user='Create'), Permission(id=3, user='Publish'), Permission(id=4, user='Edit'), Permission(id=5, user='Delete'), Permission(id=6, user='View'), Permission(id=7, user='MyComment'), Permission(id=8, user='Moderate Comment'), Permission(id=9, user='Manage User'), Permission(id=10, user='Manage Role'), Permission(id=11, user='Analytics')]\n",
      "Role(id=1, name='Administrator') [Permission(id=1, user='MyContent'), Permission(id=2, user='Create'), Permission(id=3, user='Publish'), Permission(id=4, user='Edit'), Permission(id=5, user='Delete'), Permission(id=6, user='View'), Permission(id=7, user='MyComment'), Permission(id=8, user='Moderate Comment'), Permission(id=9, user='Manage User'), Permission(id=10, user='Manage Role'), Permission(id=11, user='Analytics')]\n",
      "Role(id=1, name='Administrator') [Permission(id=1, user='MyContent'), Permission(id=2, user='Create'), Permission(id=3, user='Publish'), Permission(id=4, user='Edit'), Permission(id=5, user='Delete'), Permission(id=6, user='View'), Permission(id=7, user='MyComment'), Permission(id=8, user='Moderate Comment'), Permission(id=9, user='Manage User'), Permission(id=10, user='Manage Role'), Permission(id=11, user='Analytics')]\n",
      "Role(id=1, name='Administrator') [Permission(id=1, user='MyContent'), Permission(id=2, user='Create'), Permission(id=3, user='Publish'), Permission(id=4, user='Edit'), Permission(id=5, user='Delete'), Permission(id=6, user='View'), Permission(id=7, user='MyComment'), Permission(id=8, user='Moderate Comment'), Permission(id=9, user='Manage User'), Permission(id=10, user='Manage Role'), Permission(id=11, user='Analytics')]\n",
      "Role(id=1, name='Administrator') [Permission(id=1, user='MyContent'), Permission(id=2, user='Create'), Permission(id=3, user='Publish'), Permission(id=4, user='Edit'), Permission(id=5, user='Delete'), Permission(id=6, user='View'), Permission(id=7, user='MyComment'), Permission(id=8, user='Moderate Comment'), Permission(id=9, user='Manage User'), Permission(id=10, user='Manage Role'), Permission(id=11, user='Analytics')]\n",
      "Role(id=1, name='Administrator') [Permission(id=1, user='MyContent'), Permission(id=2, user='Create'), Permission(id=3, user='Publish'), Permission(id=4, user='Edit'), Permission(id=5, user='Delete'), Permission(id=6, user='View'), Permission(id=7, user='MyComment'), Permission(id=8, user='Moderate Comment'), Permission(id=9, user='Manage User'), Permission(id=10, user='Manage Role'), Permission(id=11, user='Analytics')]\n",
      "Role(id=1, name='Administrator') [Permission(id=1, user='MyContent'), Permission(id=2, user='Create'), Permission(id=3, user='Publish'), Permission(id=4, user='Edit'), Permission(id=5, user='Delete'), Permission(id=6, user='View'), Permission(id=7, user='MyComment'), Permission(id=8, user='Moderate Comment'), Permission(id=9, user='Manage User'), Permission(id=10, user='Manage Role'), Permission(id=11, user='Analytics')]\n",
      "Role(id=1, name='Administrator') [Permission(id=1, user='MyContent'), Permission(id=2, user='Create'), Permission(id=3, user='Publish'), Permission(id=4, user='Edit'), Permission(id=5, user='Delete'), Permission(id=6, user='View'), Permission(id=7, user='MyComment'), Permission(id=8, user='Moderate Comment'), Permission(id=9, user='Manage User'), Permission(id=10, user='Manage Role'), Permission(id=11, user='Analytics')]\n",
      "Role(id=2, name='Editor') [Permission(id=3, user='Publish'), Permission(id=4, user='Edit'), Permission(id=6, user='View'), Permission(id=7, user='MyComment'), Permission(id=8, user='Moderate Comment')]\n",
      "Role(id=2, name='Editor') [Permission(id=3, user='Publish'), Permission(id=4, user='Edit'), Permission(id=6, user='View'), Permission(id=7, user='MyComment'), Permission(id=8, user='Moderate Comment')]\n",
      "Role(id=2, name='Editor') [Permission(id=3, user='Publish'), Permission(id=4, user='Edit'), Permission(id=6, user='View'), Permission(id=7, user='MyComment'), Permission(id=8, user='Moderate Comment')]\n",
      "Role(id=2, name='Editor') [Permission(id=3, user='Publish'), Permission(id=4, user='Edit'), Permission(id=6, user='View'), Permission(id=7, user='MyComment'), Permission(id=8, user='Moderate Comment')]\n",
      "Role(id=2, name='Editor') [Permission(id=3, user='Publish'), Permission(id=4, user='Edit'), Permission(id=6, user='View'), Permission(id=7, user='MyComment'), Permission(id=8, user='Moderate Comment')]\n",
      "Role(id=3, name='Author') [Permission(id=1, user='MyContent'), Permission(id=6, user='View'), Permission(id=7, user='MyComment')]\n",
      "Role(id=3, name='Author') [Permission(id=1, user='MyContent'), Permission(id=6, user='View'), Permission(id=7, user='MyComment')]\n",
      "Role(id=3, name='Author') [Permission(id=1, user='MyContent'), Permission(id=6, user='View'), Permission(id=7, user='MyComment')]\n",
      "Role(id=4, name='Contributor') [Permission(id=2, user='Create'), Permission(id=6, user='View'), Permission(id=7, user='MyComment')]\n",
      "Role(id=4, name='Contributor') [Permission(id=2, user='Create'), Permission(id=6, user='View'), Permission(id=7, user='MyComment')]\n",
      "Role(id=4, name='Contributor') [Permission(id=2, user='Create'), Permission(id=6, user='View'), Permission(id=7, user='MyComment')]\n",
      "Role(id=5, name='Viewer') [Permission(id=6, user='View'), Permission(id=7, user='MyComment')]\n",
      "Role(id=5, name='Viewer') [Permission(id=6, user='View'), Permission(id=7, user='MyComment')]\n"
     ]
    }
   ],
   "source": [
    "query = (\n",
    "    select(Role, Permission)\n",
    "    .select_from(role_permission)\n",
    "    .join(Role)\n",
    "    .join(Permission)\n",
    ")\n",
    "print(\"\".center(100, \"-\"))\n",
    "print(f\"{query=!s}\")\n",
    "print(\"\".center(100, \"-\"))\n",
    "for role_permission_res in session.scalars(\n",
    "    query\n",
    "):  # we are not doing explicit SELECT query for permission\n",
    "    print(role_permission_res, role_permission_res.permissions)"
   ]
  },
  {
   "cell_type": "markdown",
   "metadata": {},
   "source": [
    "## Table: User_Role\n",
    "\n",
    "- Ref:\n",
    "  - Column Based Filter: https://docs.sqlalchemy.org/en/20/core/metadata.html#sqlalchemy.schema.Column\n"
   ]
  },
  {
   "cell_type": "code",
   "execution_count": 132,
   "metadata": {},
   "outputs": [],
   "source": [
    "role_user_mappings = {1: [1], 2: [2, 10], 3: [4, 5, 7], 4: [6, 8], 5: [3, 9]}"
   ]
  },
  {
   "cell_type": "code",
   "execution_count": 133,
   "metadata": {},
   "outputs": [
    {
     "name": "stdout",
     "output_type": "stream",
     "text": [
      "2023-10-29 15:22:52,526 INFO sqlalchemy.engine.Engine SELECT `role`.role_id, `role`.role_name, `role`.description \n",
      "FROM `role` \n",
      "WHERE `role`.role_id = %(role_id_1)s\n",
      "2023-10-29 15:22:52,527 INFO sqlalchemy.engine.Engine [generated in 0.00073s] {'role_id_1': 1}\n",
      "2023-10-29 15:22:52,530 INFO sqlalchemy.engine.Engine SELECT user.user_id AS user_user_id, user.user_name AS user_user_name, user.email AS user_email \n",
      "FROM user, user_role \n",
      "WHERE %(param_1)s = user_role.role_id AND user.user_id = user_role.user_id\n",
      "2023-10-29 15:22:52,530 INFO sqlalchemy.engine.Engine [generated in 0.00072s] {'param_1': 1}\n",
      "2023-10-29 15:22:52,534 INFO sqlalchemy.engine.Engine SELECT user.user_id, user.user_name, user.email \n",
      "FROM user \n",
      "WHERE user.user_id IN (%(user_id_1_1)s)\n",
      "2023-10-29 15:22:52,535 INFO sqlalchemy.engine.Engine [generated in 0.00089s] {'user_id_1_1': 1}\n",
      "2023-10-29 15:22:52,538 INFO sqlalchemy.engine.Engine INSERT INTO user_role (user_id, role_id) VALUES (%(user_id)s, %(role_id)s)\n",
      "2023-10-29 15:22:52,539 INFO sqlalchemy.engine.Engine [generated in 0.00118s] {'user_id': 1, 'role_id': 1}\n",
      "2023-10-29 15:22:52,542 INFO sqlalchemy.engine.Engine SELECT `role`.role_id, `role`.role_name, `role`.description \n",
      "FROM `role` \n",
      "WHERE `role`.role_id = %(role_id_1)s\n",
      "2023-10-29 15:22:52,543 INFO sqlalchemy.engine.Engine [cached since 0.01691s ago] {'role_id_1': 2}\n",
      "2023-10-29 15:22:52,545 INFO sqlalchemy.engine.Engine SELECT user.user_id AS user_user_id, user.user_name AS user_user_name, user.email AS user_email \n",
      "FROM user, user_role \n",
      "WHERE %(param_1)s = user_role.role_id AND user.user_id = user_role.user_id\n",
      "2023-10-29 15:22:52,546 INFO sqlalchemy.engine.Engine [cached since 0.0163s ago] {'param_1': 2}\n",
      "2023-10-29 15:22:52,548 INFO sqlalchemy.engine.Engine SELECT user.user_id, user.user_name, user.email \n",
      "FROM user \n",
      "WHERE user.user_id IN (%(user_id_1_1)s, %(user_id_1_2)s)\n",
      "2023-10-29 15:22:52,548 INFO sqlalchemy.engine.Engine [cached since 0.01449s ago] {'user_id_1_1': 2, 'user_id_1_2': 10}\n",
      "2023-10-29 15:22:52,552 INFO sqlalchemy.engine.Engine INSERT INTO user_role (user_id, role_id) VALUES (%(user_id)s, %(role_id)s)\n",
      "2023-10-29 15:22:52,553 INFO sqlalchemy.engine.Engine [generated in 0.00079s] [{'user_id': 2, 'role_id': 2}, {'user_id': 10, 'role_id': 2}]\n",
      "2023-10-29 15:22:52,554 INFO sqlalchemy.engine.Engine SELECT `role`.role_id, `role`.role_name, `role`.description \n",
      "FROM `role` \n",
      "WHERE `role`.role_id = %(role_id_1)s\n",
      "2023-10-29 15:22:52,555 INFO sqlalchemy.engine.Engine [cached since 0.02907s ago] {'role_id_1': 3}\n",
      "2023-10-29 15:22:52,558 INFO sqlalchemy.engine.Engine SELECT user.user_id AS user_user_id, user.user_name AS user_user_name, user.email AS user_email \n",
      "FROM user, user_role \n",
      "WHERE %(param_1)s = user_role.role_id AND user.user_id = user_role.user_id\n",
      "2023-10-29 15:22:52,559 INFO sqlalchemy.engine.Engine [cached since 0.02954s ago] {'param_1': 3}\n",
      "2023-10-29 15:22:52,561 INFO sqlalchemy.engine.Engine SELECT user.user_id, user.user_name, user.email \n",
      "FROM user \n",
      "WHERE user.user_id IN (%(user_id_1_1)s, %(user_id_1_2)s, %(user_id_1_3)s)\n",
      "2023-10-29 15:22:52,562 INFO sqlalchemy.engine.Engine [cached since 0.02795s ago] {'user_id_1_1': 4, 'user_id_1_2': 5, 'user_id_1_3': 7}\n",
      "2023-10-29 15:22:52,565 INFO sqlalchemy.engine.Engine INSERT INTO user_role (user_id, role_id) VALUES (%(user_id)s, %(role_id)s)\n",
      "2023-10-29 15:22:52,566 INFO sqlalchemy.engine.Engine [cached since 0.01384s ago] [{'user_id': 4, 'role_id': 3}, {'user_id': 5, 'role_id': 3}, {'user_id': 7, 'role_id': 3}]\n",
      "2023-10-29 15:22:52,567 INFO sqlalchemy.engine.Engine SELECT `role`.role_id, `role`.role_name, `role`.description \n",
      "FROM `role` \n",
      "WHERE `role`.role_id = %(role_id_1)s\n",
      "2023-10-29 15:22:52,568 INFO sqlalchemy.engine.Engine [cached since 0.04172s ago] {'role_id_1': 4}\n",
      "2023-10-29 15:22:52,570 INFO sqlalchemy.engine.Engine SELECT user.user_id AS user_user_id, user.user_name AS user_user_name, user.email AS user_email \n",
      "FROM user, user_role \n",
      "WHERE %(param_1)s = user_role.role_id AND user.user_id = user_role.user_id\n",
      "2023-10-29 15:22:52,571 INFO sqlalchemy.engine.Engine [cached since 0.04128s ago] {'param_1': 4}\n",
      "2023-10-29 15:22:52,573 INFO sqlalchemy.engine.Engine SELECT user.user_id, user.user_name, user.email \n",
      "FROM user \n",
      "WHERE user.user_id IN (%(user_id_1_1)s, %(user_id_1_2)s)\n",
      "2023-10-29 15:22:52,574 INFO sqlalchemy.engine.Engine [cached since 0.04011s ago] {'user_id_1_1': 6, 'user_id_1_2': 8}\n",
      "2023-10-29 15:22:52,576 INFO sqlalchemy.engine.Engine INSERT INTO user_role (user_id, role_id) VALUES (%(user_id)s, %(role_id)s)\n",
      "2023-10-29 15:22:52,577 INFO sqlalchemy.engine.Engine [cached since 0.02515s ago] [{'user_id': 6, 'role_id': 4}, {'user_id': 8, 'role_id': 4}]\n",
      "2023-10-29 15:22:52,579 INFO sqlalchemy.engine.Engine SELECT `role`.role_id, `role`.role_name, `role`.description \n",
      "FROM `role` \n",
      "WHERE `role`.role_id = %(role_id_1)s\n",
      "2023-10-29 15:22:52,579 INFO sqlalchemy.engine.Engine [cached since 0.05323s ago] {'role_id_1': 5}\n",
      "2023-10-29 15:22:52,581 INFO sqlalchemy.engine.Engine SELECT user.user_id AS user_user_id, user.user_name AS user_user_name, user.email AS user_email \n",
      "FROM user, user_role \n",
      "WHERE %(param_1)s = user_role.role_id AND user.user_id = user_role.user_id\n",
      "2023-10-29 15:22:52,582 INFO sqlalchemy.engine.Engine [cached since 0.05238s ago] {'param_1': 5}\n",
      "2023-10-29 15:22:52,584 INFO sqlalchemy.engine.Engine SELECT user.user_id, user.user_name, user.email \n",
      "FROM user \n",
      "WHERE user.user_id IN (%(user_id_1_1)s, %(user_id_1_2)s)\n",
      "2023-10-29 15:22:52,585 INFO sqlalchemy.engine.Engine [cached since 0.051s ago] {'user_id_1_1': 3, 'user_id_1_2': 9}\n"
     ]
    }
   ],
   "source": [
    "for role, users in role_user_mappings.items():\n",
    "    role_res = session.scalar(select(Role).where(Role.role_id == role))\n",
    "    role_res.users.extend(\n",
    "        session.scalars(select(User).where(User.user_id.in_(users))).all()\n",
    "    )  # Due to ORM relationships mapping, if we add/append in any one object it will be added in other object and conjunction table"
   ]
  },
  {
   "cell_type": "code",
   "execution_count": 134,
   "metadata": {},
   "outputs": [
    {
     "name": "stdout",
     "output_type": "stream",
     "text": [
      "2023-10-29 15:22:52,609 INFO sqlalchemy.engine.Engine INSERT INTO user_role (user_id, role_id) VALUES (%(user_id)s, %(role_id)s)\n",
      "2023-10-29 15:22:52,610 INFO sqlalchemy.engine.Engine [cached since 0.05939s ago] [{'user_id': 3, 'role_id': 5}, {'user_id': 9, 'role_id': 5}]\n",
      "2023-10-29 15:22:52,612 INFO sqlalchemy.engine.Engine COMMIT\n"
     ]
    }
   ],
   "source": [
    "session.commit()"
   ]
  },
  {
   "cell_type": "markdown",
   "metadata": {},
   "source": [
    "## Table: Content\n"
   ]
  },
  {
   "cell_type": "code",
   "execution_count": 135,
   "metadata": {},
   "outputs": [],
   "source": [
    "content_detail = [\n",
    "    {\n",
    "        \"user_id\": 4,\n",
    "        \"title\": \"RDBMS Relation\",\n",
    "        \"content\": \"Relation between DBMS entities\",\n",
    "    },\n",
    "    {\n",
    "        \"user_id\": 5,\n",
    "        \"title\": \"Phoenix\",\n",
    "        \"content\": \"Rising from the ash.\",\n",
    "    },\n",
    "    {\n",
    "        \"user_id\": 4,\n",
    "        \"title\": \"Git\",\n",
    "        \"content\": \"Git is SCM(Source Control Management)\",\n",
    "    },\n",
    "    {\n",
    "        \"user_id\": 5,\n",
    "        \"contributor_id\": 6,\n",
    "        \"title\": \"Shell on Rabbit\",\n",
    "        \"content\": \"OS independent Shell customization\",\n",
    "    },\n",
    "    {\n",
    "        \"user_id\": 7,\n",
    "        \"contributor_id\": 8,\n",
    "        \"title\": \"NoSQL\",\n",
    "        \"content\": \"Concealed Schema DBMS\",\n",
    "    },\n",
    "    {\n",
    "        \"user_id\": 5,\n",
    "        \"contributor_id\": 8,\n",
    "        \"title\": \"Docker\",\n",
    "        \"content\": \"Developing, shipping and running containers\",\n",
    "    },\n",
    "]"
   ]
  },
  {
   "cell_type": "code",
   "execution_count": 136,
   "metadata": {},
   "outputs": [],
   "source": [
    "for content_data in content_detail:\n",
    "    content = Content(**content_data)\n",
    "    session.add(content)"
   ]
  },
  {
   "cell_type": "code",
   "execution_count": 137,
   "metadata": {},
   "outputs": [
    {
     "name": "stdout",
     "output_type": "stream",
     "text": [
      "2023-10-29 15:22:52,675 INFO sqlalchemy.engine.Engine BEGIN (implicit)\n",
      "2023-10-29 15:22:52,677 INFO sqlalchemy.engine.Engine INSERT INTO content (user_id, contributor_id, title, content) VALUES (%(user_id)s, %(contributor_id)s, %(title)s, %(content)s)\n",
      "2023-10-29 15:22:52,678 INFO sqlalchemy.engine.Engine [generated in 0.00122s] {'user_id': 4, 'contributor_id': None, 'title': 'RDBMS Relation', 'content': 'Relation between DBMS entities'}\n",
      "2023-10-29 15:22:52,681 INFO sqlalchemy.engine.Engine INSERT INTO content (user_id, contributor_id, title, content) VALUES (%(user_id)s, %(contributor_id)s, %(title)s, %(content)s)\n",
      "2023-10-29 15:22:52,681 INFO sqlalchemy.engine.Engine [cached since 0.004577s ago] {'user_id': 5, 'contributor_id': None, 'title': 'Phoenix', 'content': 'Rising from the ash.'}\n",
      "2023-10-29 15:22:52,683 INFO sqlalchemy.engine.Engine INSERT INTO content (user_id, contributor_id, title, content) VALUES (%(user_id)s, %(contributor_id)s, %(title)s, %(content)s)\n",
      "2023-10-29 15:22:52,683 INFO sqlalchemy.engine.Engine [cached since 0.006554s ago] {'user_id': 4, 'contributor_id': None, 'title': 'Git', 'content': 'Git is SCM(Source Control Management)'}\n",
      "2023-10-29 15:22:52,685 INFO sqlalchemy.engine.Engine INSERT INTO content (user_id, contributor_id, title, content) VALUES (%(user_id)s, %(contributor_id)s, %(title)s, %(content)s)\n",
      "2023-10-29 15:22:52,686 INFO sqlalchemy.engine.Engine [cached since 0.008971s ago] {'user_id': 5, 'contributor_id': 6, 'title': 'Shell on Rabbit', 'content': 'OS independent Shell customization'}\n",
      "2023-10-29 15:22:52,688 INFO sqlalchemy.engine.Engine INSERT INTO content (user_id, contributor_id, title, content) VALUES (%(user_id)s, %(contributor_id)s, %(title)s, %(content)s)\n",
      "2023-10-29 15:22:52,689 INFO sqlalchemy.engine.Engine [cached since 0.01258s ago] {'user_id': 7, 'contributor_id': 8, 'title': 'NoSQL', 'content': 'Concealed Schema DBMS'}\n",
      "2023-10-29 15:22:52,691 INFO sqlalchemy.engine.Engine INSERT INTO content (user_id, contributor_id, title, content) VALUES (%(user_id)s, %(contributor_id)s, %(title)s, %(content)s)\n",
      "2023-10-29 15:22:52,692 INFO sqlalchemy.engine.Engine [cached since 0.01535s ago] {'user_id': 5, 'contributor_id': 8, 'title': 'Docker', 'content': 'Developing, shipping and running containers'}\n",
      "2023-10-29 15:22:52,695 INFO sqlalchemy.engine.Engine COMMIT\n"
     ]
    }
   ],
   "source": [
    "session.commit()"
   ]
  },
  {
   "cell_type": "markdown",
   "metadata": {},
   "source": [
    "## Alias\n",
    "\n",
    "- Ref:\n",
    "  - ORM Alias: https://docs.sqlalchemy.org/en/20/tutorial/data_select.html#orm-entity-aliases\n"
   ]
  },
  {
   "cell_type": "code",
   "execution_count": 139,
   "metadata": {},
   "outputs": [
    {
     "name": "stdout",
     "output_type": "stream",
     "text": [
      "2023-10-29 15:22:52,731 INFO sqlalchemy.engine.Engine BEGIN (implicit)\n",
      "2023-10-29 15:22:52,733 INFO sqlalchemy.engine.Engine SELECT content.content_id, content.user_id, content.contributor_id, content.title, content.content \n",
      "FROM content INNER JOIN user AS user_1 ON content.user_id = user_1.user_id LEFT OUTER JOIN user ON content.contributor_id = user.user_id\n",
      "2023-10-29 15:22:52,733 INFO sqlalchemy.engine.Engine [generated in 0.00064s] {}\n",
      "2023-10-29 15:22:52,737 INFO sqlalchemy.engine.Engine SELECT user.user_id AS user_user_id, user.user_name AS user_user_name, user.email AS user_email \n",
      "FROM user \n",
      "WHERE user.user_id = %(pk_1)s\n",
      "2023-10-29 15:22:52,738 INFO sqlalchemy.engine.Engine [generated in 0.00110s] {'pk_1': 4}\n",
      "Content(id=1, title='RDBMS Relation', author=4) User(id=4, name='Doe', email='doe@example.com')\n",
      "\n",
      "2023-10-29 15:22:52,742 INFO sqlalchemy.engine.Engine SELECT user.user_id AS user_user_id, user.user_name AS user_user_name, user.email AS user_email \n",
      "FROM user \n",
      "WHERE user.user_id = %(pk_1)s\n",
      "2023-10-29 15:22:52,742 INFO sqlalchemy.engine.Engine [cached since 0.005113s ago] {'pk_1': 5}\n",
      "Content(id=2, title='Phoenix', author=5) User(id=5, name='Mary', email='mary@example.com')\n",
      "\n",
      "Content(id=3, title='Git', author=4) User(id=4, name='Doe', email='doe@example.com')\n",
      "\n",
      "Content(id=4, title='Shell on Rabbit', author=5) User(id=5, name='Mary', email='mary@example.com')\n",
      "\n",
      "2023-10-29 15:22:52,744 INFO sqlalchemy.engine.Engine SELECT user.user_id AS user_user_id, user.user_name AS user_user_name, user.email AS user_email \n",
      "FROM user \n",
      "WHERE user.user_id = %(pk_1)s\n",
      "2023-10-29 15:22:52,745 INFO sqlalchemy.engine.Engine [cached since 0.007602s ago] {'pk_1': 7}\n",
      "Content(id=5, title='NoSQL', author=7) User(id=7, name='Raj', email='raj@example.com')\n",
      "\n",
      "Content(id=6, title='Docker', author=5) User(id=5, name='Mary', email='mary@example.com')\n",
      "\n"
     ]
    }
   ],
   "source": [
    "user_author = aliased(User)\n",
    "for content in session.scalars(\n",
    "    select(Content)\n",
    "    .join(user_author, Content.user_id == user_author.user_id)\n",
    "    .join(User, Content.contributor_id == User.user_id, isouter=True)\n",
    "):\n",
    "    print(content, content.author)\n",
    "    print()"
   ]
  },
  {
   "cell_type": "markdown",
   "metadata": {},
   "source": [
    "## Table: Comment\n"
   ]
  },
  {
   "cell_type": "code",
   "execution_count": 140,
   "metadata": {},
   "outputs": [],
   "source": [
    "comment_details = [\n",
    "    {\n",
    "        \"content_id\": 1,\n",
    "        \"user_id\": 1,\n",
    "        \"comment\": \"Nice Pick\",\n",
    "        \"date\": \"2023-10-03\",\n",
    "    },\n",
    "    {\n",
    "        \"content_id\": 1,\n",
    "        \"user_id\": 4,\n",
    "        \"comment\": \"Thank You\",\n",
    "        \"date\": \"2023-10-03\",\n",
    "    },\n",
    "    {\n",
    "        \"content_id\": 3,\n",
    "        \"user_id\": 9,\n",
    "        \"comment\": \"Git is surely essential\",\n",
    "        \"date\": \"2023-10-15\",\n",
    "    },\n",
    "    {\n",
    "        \"content_id\": 6,\n",
    "        \"user_id\": 6,\n",
    "        \"comment\": \"To the point contributed by Suraj\",\n",
    "        \"date\": \"2023-10-23\",\n",
    "    },\n",
    "    {\n",
    "        \"content_id\": 6,\n",
    "        \"user_id\": 6,\n",
    "        \"comment\": \"Wish to keep it small and concise\",\n",
    "        \"date\": \"2023-10-24\",\n",
    "    },\n",
    "    {\n",
    "        \"content_id\": 2,\n",
    "        \"user_id\": 5,\n",
    "        \"comment\": \"Like, share and follow for more\",\n",
    "        \"date\": \"2023-10-25\",\n",
    "    },\n",
    "]"
   ]
  },
  {
   "cell_type": "code",
   "execution_count": 141,
   "metadata": {},
   "outputs": [],
   "source": [
    "for comment_data in comment_details:\n",
    "    comment = Comment(**comment_data)\n",
    "    session.add(comment)"
   ]
  },
  {
   "cell_type": "code",
   "execution_count": 142,
   "metadata": {},
   "outputs": [
    {
     "name": "stdout",
     "output_type": "stream",
     "text": [
      "2023-10-29 15:22:52,791 INFO sqlalchemy.engine.Engine INSERT INTO comment (content_id, user_id, comment, date) VALUES (%(content_id)s, %(user_id)s, %(comment)s, %(date)s)\n",
      "2023-10-29 15:22:52,791 INFO sqlalchemy.engine.Engine [generated in 0.00072s] {'content_id': 1, 'user_id': 1, 'comment': 'Nice Pick', 'date': '2023-10-03'}\n",
      "2023-10-29 15:22:52,794 INFO sqlalchemy.engine.Engine INSERT INTO comment (content_id, user_id, comment, date) VALUES (%(content_id)s, %(user_id)s, %(comment)s, %(date)s)\n",
      "2023-10-29 15:22:52,794 INFO sqlalchemy.engine.Engine [cached since 0.003769s ago] {'content_id': 1, 'user_id': 4, 'comment': 'Thank You', 'date': '2023-10-03'}\n",
      "2023-10-29 15:22:52,796 INFO sqlalchemy.engine.Engine INSERT INTO comment (content_id, user_id, comment, date) VALUES (%(content_id)s, %(user_id)s, %(comment)s, %(date)s)\n",
      "2023-10-29 15:22:52,797 INFO sqlalchemy.engine.Engine [cached since 0.006184s ago] {'content_id': 3, 'user_id': 9, 'comment': 'Git is surely essential', 'date': '2023-10-15'}\n",
      "2023-10-29 15:22:52,798 INFO sqlalchemy.engine.Engine INSERT INTO comment (content_id, user_id, comment, date) VALUES (%(content_id)s, %(user_id)s, %(comment)s, %(date)s)\n",
      "2023-10-29 15:22:52,800 INFO sqlalchemy.engine.Engine [cached since 0.009536s ago] {'content_id': 6, 'user_id': 6, 'comment': 'To the point contributed by Suraj', 'date': '2023-10-23'}\n",
      "2023-10-29 15:22:52,802 INFO sqlalchemy.engine.Engine INSERT INTO comment (content_id, user_id, comment, date) VALUES (%(content_id)s, %(user_id)s, %(comment)s, %(date)s)\n",
      "2023-10-29 15:22:52,802 INFO sqlalchemy.engine.Engine [cached since 0.01168s ago] {'content_id': 6, 'user_id': 6, 'comment': 'Wish to keep it small and concise', 'date': '2023-10-24'}\n",
      "2023-10-29 15:22:52,804 INFO sqlalchemy.engine.Engine INSERT INTO comment (content_id, user_id, comment, date) VALUES (%(content_id)s, %(user_id)s, %(comment)s, %(date)s)\n",
      "2023-10-29 15:22:52,804 INFO sqlalchemy.engine.Engine [cached since 0.01373s ago] {'content_id': 2, 'user_id': 5, 'comment': 'Like, share and follow for more', 'date': '2023-10-25'}\n",
      "2023-10-29 15:22:52,807 INFO sqlalchemy.engine.Engine COMMIT\n"
     ]
    }
   ],
   "source": [
    "session.commit()"
   ]
  },
  {
   "cell_type": "markdown",
   "metadata": {},
   "source": [
    "## Order By Select\n",
    "\n",
    "- Ref:\n",
    "  - Selectable: https://docs.sqlalchemy.org/en/20/core/selectable.html\n"
   ]
  },
  {
   "cell_type": "code",
   "execution_count": 143,
   "metadata": {},
   "outputs": [
    {
     "name": "stdout",
     "output_type": "stream",
     "text": [
      "2023-10-29 15:22:52,834 INFO sqlalchemy.engine.Engine BEGIN (implicit)\n",
      "2023-10-29 15:22:52,835 INFO sqlalchemy.engine.Engine SELECT comment.comment_id, comment.content_id, comment.user_id, comment.comment, comment.date \n",
      "FROM comment ORDER BY comment.content_id\n",
      "2023-10-29 15:22:52,836 INFO sqlalchemy.engine.Engine [generated in 0.00072s] {}\n"
     ]
    },
    {
     "data": {
      "text/plain": [
       "[Comment(id=1, content_id=1, commenter=1, date=datetime.date(2023, 10, 3)),\n",
       " Comment(id=2, content_id=1, commenter=4, date=datetime.date(2023, 10, 3)),\n",
       " Comment(id=6, content_id=2, commenter=5, date=datetime.date(2023, 10, 25)),\n",
       " Comment(id=3, content_id=3, commenter=9, date=datetime.date(2023, 10, 15)),\n",
       " Comment(id=4, content_id=6, commenter=6, date=datetime.date(2023, 10, 23)),\n",
       " Comment(id=5, content_id=6, commenter=6, date=datetime.date(2023, 10, 24))]"
      ]
     },
     "execution_count": 143,
     "metadata": {},
     "output_type": "execute_result"
    }
   ],
   "source": [
    "session.scalars(select(Comment).order_by(Comment.content_id)).all()"
   ]
  },
  {
   "cell_type": "code",
   "execution_count": 144,
   "metadata": {},
   "outputs": [
    {
     "name": "stdout",
     "output_type": "stream",
     "text": [
      "2023-10-29 15:22:52,865 INFO sqlalchemy.engine.Engine SELECT content.content_id, content.user_id, content.contributor_id, content.title, content.content \n",
      "FROM content\n",
      "2023-10-29 15:22:52,866 INFO sqlalchemy.engine.Engine [generated in 0.00096s] {}\n",
      "Content(id=1, title='RDBMS Relation', author=4)\n",
      "2023-10-29 15:22:52,870 INFO sqlalchemy.engine.Engine SELECT comment.comment_id AS comment_comment_id, comment.content_id AS comment_content_id, comment.user_id AS comment_user_id, comment.comment AS comment_comment, comment.date AS comment_date \n",
      "FROM comment \n",
      "WHERE %(param_1)s = comment.content_id\n",
      "2023-10-29 15:22:52,871 INFO sqlalchemy.engine.Engine [generated in 0.00119s] {'param_1': 1}\n",
      "[Comment(id=1, content_id=1, commenter=1, date=datetime.date(2023, 10, 3)), Comment(id=2, content_id=1, commenter=4, date=datetime.date(2023, 10, 3))]\n",
      "\n",
      "Content(id=2, title='Phoenix', author=5)\n",
      "2023-10-29 15:22:52,874 INFO sqlalchemy.engine.Engine SELECT comment.comment_id AS comment_comment_id, comment.content_id AS comment_content_id, comment.user_id AS comment_user_id, comment.comment AS comment_comment, comment.date AS comment_date \n",
      "FROM comment \n",
      "WHERE %(param_1)s = comment.content_id\n",
      "2023-10-29 15:22:52,875 INFO sqlalchemy.engine.Engine [cached since 0.004908s ago] {'param_1': 2}\n",
      "[Comment(id=6, content_id=2, commenter=5, date=datetime.date(2023, 10, 25))]\n",
      "\n",
      "Content(id=3, title='Git', author=4)\n",
      "2023-10-29 15:22:52,877 INFO sqlalchemy.engine.Engine SELECT comment.comment_id AS comment_comment_id, comment.content_id AS comment_content_id, comment.user_id AS comment_user_id, comment.comment AS comment_comment, comment.date AS comment_date \n",
      "FROM comment \n",
      "WHERE %(param_1)s = comment.content_id\n",
      "2023-10-29 15:22:52,878 INFO sqlalchemy.engine.Engine [cached since 0.007663s ago] {'param_1': 3}\n",
      "[Comment(id=3, content_id=3, commenter=9, date=datetime.date(2023, 10, 15))]\n",
      "\n",
      "Content(id=4, title='Shell on Rabbit', author=5)\n",
      "2023-10-29 15:22:52,880 INFO sqlalchemy.engine.Engine SELECT comment.comment_id AS comment_comment_id, comment.content_id AS comment_content_id, comment.user_id AS comment_user_id, comment.comment AS comment_comment, comment.date AS comment_date \n",
      "FROM comment \n",
      "WHERE %(param_1)s = comment.content_id\n",
      "2023-10-29 15:22:52,881 INFO sqlalchemy.engine.Engine [cached since 0.01085s ago] {'param_1': 4}\n",
      "[]\n",
      "\n",
      "Content(id=5, title='NoSQL', author=7)\n",
      "2023-10-29 15:22:52,883 INFO sqlalchemy.engine.Engine SELECT comment.comment_id AS comment_comment_id, comment.content_id AS comment_content_id, comment.user_id AS comment_user_id, comment.comment AS comment_comment, comment.date AS comment_date \n",
      "FROM comment \n",
      "WHERE %(param_1)s = comment.content_id\n",
      "2023-10-29 15:22:52,884 INFO sqlalchemy.engine.Engine [cached since 0.01353s ago] {'param_1': 5}\n",
      "[]\n",
      "\n",
      "Content(id=6, title='Docker', author=5)\n",
      "2023-10-29 15:22:52,885 INFO sqlalchemy.engine.Engine SELECT comment.comment_id AS comment_comment_id, comment.content_id AS comment_content_id, comment.user_id AS comment_user_id, comment.comment AS comment_comment, comment.date AS comment_date \n",
      "FROM comment \n",
      "WHERE %(param_1)s = comment.content_id\n",
      "2023-10-29 15:22:52,886 INFO sqlalchemy.engine.Engine [cached since 0.01614s ago] {'param_1': 6}\n",
      "[Comment(id=4, content_id=6, commenter=6, date=datetime.date(2023, 10, 23)), Comment(id=5, content_id=6, commenter=6, date=datetime.date(2023, 10, 24))]\n",
      "\n"
     ]
    }
   ],
   "source": [
    "for content in session.scalars(select(Content)):\n",
    "    print(content)\n",
    "    print(content.comments)  # will make explicit SELECT query\n",
    "    print()"
   ]
  },
  {
   "cell_type": "code",
   "execution_count": 145,
   "metadata": {},
   "outputs": [
    {
     "name": "stdout",
     "output_type": "stream",
     "text": [
      "2023-10-29 15:22:52,912 INFO sqlalchemy.engine.Engine ROLLBACK\n"
     ]
    }
   ],
   "source": [
    "session.close()"
   ]
  },
  {
   "cell_type": "markdown",
   "metadata": {},
   "source": [
    "## Reach Out\n",
    "\n",
    "For more intuitive blogs follow me on Medium & Github. You can also reach out to me via LinkedIn or X(Twitter).\n",
    "\n",
    "[![Shivam Panchal | LinkedIn](https://img.shields.io/badge/Shivam_Panchal-eeeeee?style=for-the-badge&logo=linkedin&logoColor=ffffff&labelColor=0A66C2)][reach_linkedin]\n",
    "[![l_shivam_l | X](https://img.shields.io/badge/l__shivam__l-eeeeee?style=for-the-badge&logo=x&logoColor=ffffff&labelColor=000000)][reach_x]\n",
    "[![GodWin1100 | GitHub](https://img.shields.io/badge/Godwin1100-eeeeee?style=for-the-badge&logo=github&logoColor=ffffff&labelColor=181717)][reach_github]\n",
    "[![GodWin | Medium](https://img.shields.io/badge/Shivam_Panchal-eeeeee?style=for-the-badge&logo=medium&logoColor=ffffff&labelColor=000000)][reach_medium]\n",
    "\n",
    "[reach_linkedin]: https://www.linkedin.com/in/godwin1100\n",
    "[reach_x]: https://twitter.com/l_shivam_l\n",
    "[reach_medium]: https://medium.com/@godwin1100\n",
    "[reach_github]: https://github.com/GodWin1100\n"
   ]
  }
 ],
 "metadata": {
  "kernelspec": {
   "display_name": "fsds",
   "language": "python",
   "name": "python3"
  },
  "language_info": {
   "codemirror_mode": {
    "name": "ipython",
    "version": 3
   },
   "file_extension": ".py",
   "mimetype": "text/x-python",
   "name": "python",
   "nbconvert_exporter": "python",
   "pygments_lexer": "ipython3",
   "version": "3.10.13"
  }
 },
 "nbformat": 4,
 "nbformat_minor": 2
}
